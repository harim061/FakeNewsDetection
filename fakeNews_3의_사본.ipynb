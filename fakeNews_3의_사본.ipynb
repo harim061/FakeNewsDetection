{
  "nbformat": 4,
  "nbformat_minor": 0,
  "metadata": {
    "colab": {
      "provenance": [],
      "authorship_tag": "ABX9TyMNTO3fFT9qP6fv9NEezNp4",
      "include_colab_link": true
    },
    "kernelspec": {
      "name": "python3",
      "display_name": "Python 3"
    },
    "language_info": {
      "name": "python"
    }
  },
  "cells": [
    {
      "cell_type": "markdown",
      "metadata": {
        "id": "view-in-github",
        "colab_type": "text"
      },
      "source": [
        "<a href=\"https://colab.research.google.com/github/harim061/FakeNewsDetection/blob/main/fakeNews_3%EC%9D%98_%EC%82%AC%EB%B3%B8.ipynb\" target=\"_parent\"><img src=\"https://colab.research.google.com/assets/colab-badge.svg\" alt=\"Open In Colab\"/></a>"
      ]
    },
    {
      "cell_type": "markdown",
      "source": [
        "# 메소드"
      ],
      "metadata": {
        "id": "Tb5b0Waey0HE"
      }
    },
    {
      "cell_type": "code",
      "execution_count": 1,
      "metadata": {
        "colab": {
          "base_uri": "https://localhost:8080/"
        },
        "id": "PjWVGcOzxAyl",
        "outputId": "d3dd3994-91c6-4639-f35f-0e20f2f9da11"
      },
      "outputs": [
        {
          "output_type": "stream",
          "name": "stdout",
          "text": [
            "Mounted at /content/drive\n",
            "Collecting contractions\n",
            "  Downloading contractions-0.1.73-py2.py3-none-any.whl (8.7 kB)\n",
            "Collecting textsearch>=0.0.21 (from contractions)\n",
            "  Downloading textsearch-0.0.24-py2.py3-none-any.whl (7.6 kB)\n",
            "Collecting anyascii (from textsearch>=0.0.21->contractions)\n",
            "  Downloading anyascii-0.3.2-py3-none-any.whl (289 kB)\n",
            "\u001b[2K     \u001b[90m━━━━━━━━━━━━━━━━━━━━━━━━━━━━━━━━━━━━━━━\u001b[0m \u001b[32m289.9/289.9 kB\u001b[0m \u001b[31m5.3 MB/s\u001b[0m eta \u001b[36m0:00:00\u001b[0m\n",
            "\u001b[?25hCollecting pyahocorasick (from textsearch>=0.0.21->contractions)\n",
            "  Downloading pyahocorasick-2.0.0-cp310-cp310-manylinux_2_5_x86_64.manylinux1_x86_64.manylinux_2_12_x86_64.manylinux2010_x86_64.whl (110 kB)\n",
            "\u001b[2K     \u001b[90m━━━━━━━━━━━━━━━━━━━━━━━━━━━━━━━━━━━━━━━\u001b[0m \u001b[32m110.8/110.8 kB\u001b[0m \u001b[31m6.4 MB/s\u001b[0m eta \u001b[36m0:00:00\u001b[0m\n",
            "\u001b[?25hInstalling collected packages: pyahocorasick, anyascii, textsearch, contractions\n",
            "Successfully installed anyascii-0.3.2 contractions-0.1.73 pyahocorasick-2.0.0 textsearch-0.0.24\n"
          ]
        },
        {
          "output_type": "stream",
          "name": "stderr",
          "text": [
            "[nltk_data] Downloading package punkt to /root/nltk_data...\n",
            "[nltk_data]   Unzipping tokenizers/punkt.zip.\n",
            "[nltk_data] Downloading package stopwords to /root/nltk_data...\n",
            "[nltk_data]   Unzipping corpora/stopwords.zip.\n",
            "[nltk_data] Downloading package wordnet to /root/nltk_data...\n",
            "[nltk_data] Downloading package averaged_perceptron_tagger to\n",
            "[nltk_data]     /root/nltk_data...\n",
            "[nltk_data]   Unzipping taggers/averaged_perceptron_tagger.zip.\n"
          ]
        }
      ],
      "source": [
        "from google.colab import drive\n",
        "drive.mount('/content/drive')\n",
        "\n",
        "import numpy as np\n",
        "import pandas as pd\n",
        "import matplotlib.pyplot as plt\n",
        "import seaborn as sns\n",
        "\n",
        "import re\n",
        "import nltk\n",
        "from nltk.corpus import stopwords\n",
        "from nltk.stem.porter import PorterStemmer\n",
        "!pip install contractions\n",
        "import contractions\n",
        "nltk.download('punkt')\n",
        "nltk.download('stopwords')\n",
        "nltk.download('wordnet')\n",
        "nltk.download('averaged_perceptron_tagger')\n",
        "from nltk.tokenize import word_tokenize\n",
        "from nltk.stem import SnowballStemmer, WordNetLemmatizer\n",
        "\n",
        "from sklearn.feature_extraction.text import CountVectorizer, TfidfVectorizer, HashingVectorizer\n",
        "from sklearn.model_selection import train_test_split\n",
        "from sklearn.linear_model import LogisticRegression\n",
        "from sklearn.metrics import classification_report\n",
        "from sklearn.metrics import confusion_matrix, precision_score, \\\n",
        "                             recall_score, f1_score, roc_curve, \\\n",
        "                             accuracy_score, roc_auc_score\n",
        "from sklearn.model_selection import ParameterGrid, GridSearchCV\n",
        "\n",
        "\n",
        "import tensorflow as tf\n",
        "from tensorflow import keras\n",
        "from tensorflow.keras import layers as L\n",
        "from tensorflow.keras.layers import  Embedding\n",
        "from tensorflow.keras.layers import Bidirectional\n",
        "from tensorflow.keras.preprocessing.sequence import pad_sequences\n",
        "from tensorflow.keras.preprocessing.text import one_hot\n",
        "from tensorflow.keras.layers import Dense, Dropout, LSTM, Embedding, GRU, SimpleRNN\n",
        "from tensorflow.keras.models import Sequential\n",
        "from tensorflow.python.keras.callbacks import EarlyStopping\n",
        "\n",
        "from __future__ import absolute_import, division, print_function, unicode_literals\n",
        "\n",
        "VOCAB_SIZE = 5000"
      ]
    },
    {
      "cell_type": "code",
      "source": [
        "path = '/content/drive/MyDrive/kaggle_data/'\n",
        "test= pd.read_csv(path + 'test.csv'  )\n",
        "train= pd.read_csv(path + 'train.csv' )\n",
        "submit= pd.read_csv(path + 'submit.csv')"
      ],
      "metadata": {
        "id": "M8MFmPj9xLbN"
      },
      "execution_count": 2,
      "outputs": []
    },
    {
      "cell_type": "markdown",
      "source": [
        "# 데이터 전처리"
      ],
      "metadata": {
        "id": "fsfOqHoeyx39"
      }
    },
    {
      "cell_type": "code",
      "source": [
        "def data_clean(dt):\n",
        "  dt = dt.fillna('')\n",
        "  dt[\"total\"] = dt['title'] + \" \" + dt[\"author\"]\n",
        "  return dt"
      ],
      "metadata": {
        "id": "cjcEXZ1syxnd"
      },
      "execution_count": 3,
      "outputs": []
    },
    {
      "cell_type": "code",
      "source": [
        "\n",
        "def text_cleaning(df):\n",
        "    ps = PorterStemmer()\n",
        "    corpus = []\n",
        "    for i in range(len(df)):\n",
        "        m = re.sub(\"[^a-zA-Z]\", \" \", df[\"total\"][i])\n",
        "        m = m.lower()\n",
        "        m = m.split()\n",
        "        m = [ps.stem(word) for word in m if not word in stopwords.words('english')]\n",
        "        clean_text = \" \".join(m)\n",
        "        corpus.append(clean_text)\n",
        "    return corpus\n"
      ],
      "metadata": {
        "id": "XloEii4Ry2n5"
      },
      "execution_count": 4,
      "outputs": []
    },
    {
      "cell_type": "code",
      "source": [
        "def onehot(corpus, VOCAB_SIZE = 5000):\n",
        "  return [one_hot(words, VOCAB_SIZE) for words in corpus]"
      ],
      "metadata": {
        "id": "tn2tIn5Iy4YK"
      },
      "execution_count": 5,
      "outputs": []
    },
    {
      "cell_type": "code",
      "source": [
        "def padding(onehot_text) :\n",
        "  return np.array(pad_sequences(onehot_text, padding=\"pre\", maxlen = 25))"
      ],
      "metadata": {
        "id": "gGOb3c0dy6lv"
      },
      "execution_count": 6,
      "outputs": []
    },
    {
      "cell_type": "code",
      "source": [
        "def get_label(df):\n",
        "  return np.array(df[\"label\"])"
      ],
      "metadata": {
        "id": "lxurAZpzy76x"
      },
      "execution_count": 7,
      "outputs": []
    },
    {
      "cell_type": "code",
      "source": [
        "def make_clean(df) :\n",
        "  corpus = data_clean(df)\n",
        "  corpus = text_cleaning(corpus)\n",
        "  corpus = onehot(corpus)\n",
        "  corpus = padding(corpus)\n",
        "  return   corpus"
      ],
      "metadata": {
        "id": "L4uQJUqOy8hQ"
      },
      "execution_count": 8,
      "outputs": []
    },
    {
      "cell_type": "code",
      "source": [
        "def get_data() :\n",
        "  path = '/content/drive/MyDrive/kaggle_data/'\n",
        "  test   = pd.read_csv(path + 'test.csv'  )\n",
        "  train  = pd.read_csv(path + 'train.csv' )\n",
        "  submit = pd.read_csv(path + 'submit.csv')\n",
        "\n",
        "  x = np.array(list(make_clean(train)) + list(make_clean(test )))\n",
        "  y = np.array(list(get_label(train )) + list(get_label(submit)))\n",
        "  return train_test_split(x, y, test_size = 0.1, random_state = 1234)"
      ],
      "metadata": {
        "id": "NEb53WTjy9nq"
      },
      "execution_count": 9,
      "outputs": []
    },
    {
      "cell_type": "code",
      "source": [
        "\n",
        "def save_data(path, train_x, test_x, train_y, test_y) :\n",
        "  np.save(path + 'train_x', train_x)\n",
        "  np.save(path + 'test_x' , test_x )\n",
        "  np.save(path + 'train_y', train_x)\n",
        "  np.save(path + 'test_y' , test_x )"
      ],
      "metadata": {
        "id": "tbzoLy6dy-tn"
      },
      "execution_count": 10,
      "outputs": []
    },
    {
      "cell_type": "code",
      "source": [
        "\n",
        "train_x, test_x, train_y, test_y = get_data()\n",
        "\n",
        "save_data(path, train_x, test_x, train_y, test_y)"
      ],
      "metadata": {
        "id": "NWvTng6Ay_8_"
      },
      "execution_count": 11,
      "outputs": []
    },
    {
      "cell_type": "code",
      "source": [
        "train_x,val_x,train_y,val_y = train_test_split(train_x,train_y,test_size = 0.1,random_state = 1234)"
      ],
      "metadata": {
        "id": "g9x9uFOxzAQ1"
      },
      "execution_count": 12,
      "outputs": []
    },
    {
      "cell_type": "code",
      "source": [
        "print(train_x.shape)\n",
        "print(train_y.shape)\n",
        "print(val_x.shape)\n",
        "print(val_y.shape)\n",
        "print(test_x.shape)\n",
        "print(test_y.shape)"
      ],
      "metadata": {
        "colab": {
          "base_uri": "https://localhost:8080/"
        },
        "id": "zbfLuRXWzBpx",
        "outputId": "a06ffab4-2ef2-4d50-8522-6bd0be6e7c50"
      },
      "execution_count": 13,
      "outputs": [
        {
          "output_type": "stream",
          "name": "stdout",
          "text": [
            "(21060, 25)\n",
            "(21060,)\n",
            "(2340, 25)\n",
            "(2340,)\n",
            "(2600, 25)\n",
            "(2600,)\n"
          ]
        }
      ]
    },
    {
      "cell_type": "markdown",
      "source": [
        "# 모델링 - CNN-LSTM"
      ],
      "metadata": {
        "id": "CVRrop5DzCYR"
      }
    },
    {
      "cell_type": "code",
      "source": [
        "train_x.shape"
      ],
      "metadata": {
        "colab": {
          "base_uri": "https://localhost:8080/"
        },
        "id": "6WtxwsufzHpP",
        "outputId": "89efaba6-ae69-4ebd-fd45-6c7ac0e6a4e5"
      },
      "execution_count": 14,
      "outputs": [
        {
          "output_type": "execute_result",
          "data": {
            "text/plain": [
              "(21060, 25)"
            ]
          },
          "metadata": {},
          "execution_count": 14
        }
      ]
    },
    {
      "cell_type": "code",
      "source": [
        "model_CNN_LSTM = Sequential()\n",
        "model_CNN_LSTM.add(keras.layers.Embedding(30000, 30))\n",
        "model_CNN_LSTM.add(keras.layers.Dropout(0.3))\n",
        "model_CNN_LSTM.add(keras.layers.Conv1D(32, 3, padding='same', strides=1,activation='relu'))\n",
        "model_CNN_LSTM.add(keras.layers.MaxPooling1D(2))\n",
        "model_CNN_LSTM.add(LSTM(100))\n",
        "model_CNN_LSTM.add(keras.layers.Dropout(0.3))\n",
        "model_CNN_LSTM.add(Dense(1, activation='sigmoid'))\n",
        "model_CNN_LSTM.compile(optimizer = 'Adam', loss='binary_crossentropy', metrics=['acc'])\n",
        "history_CNN_LSTM = model_CNN_LSTM.fit(train_x, train_y, epochs=10,\n",
        "                    validation_data=(val_x, val_y))\n",
        "model_CNN_LSTM.summary()\n",
        "\n"
      ],
      "metadata": {
        "colab": {
          "base_uri": "https://localhost:8080/"
        },
        "id": "JqkI-PeyzI0N",
        "outputId": "2d78222d-5a84-4fb3-a77c-2c83a325071c"
      },
      "execution_count": 15,
      "outputs": [
        {
          "output_type": "stream",
          "name": "stdout",
          "text": [
            "Epoch 1/10\n",
            "659/659 [==============================] - 21s 26ms/step - loss: 0.3327 - acc: 0.8763 - val_loss: 0.2573 - val_acc: 0.9175\n",
            "Epoch 2/10\n",
            "659/659 [==============================] - 17s 25ms/step - loss: 0.2463 - acc: 0.9211 - val_loss: 0.2545 - val_acc: 0.9205\n",
            "Epoch 3/10\n",
            "659/659 [==============================] - 17s 25ms/step - loss: 0.2217 - acc: 0.9264 - val_loss: 0.2578 - val_acc: 0.9150\n",
            "Epoch 4/10\n",
            "659/659 [==============================] - 21s 31ms/step - loss: 0.2002 - acc: 0.9316 - val_loss: 0.2744 - val_acc: 0.9120\n",
            "Epoch 5/10\n",
            "659/659 [==============================] - 17s 25ms/step - loss: 0.1755 - acc: 0.9380 - val_loss: 0.3090 - val_acc: 0.9017\n",
            "Epoch 6/10\n",
            "659/659 [==============================] - 17s 26ms/step - loss: 0.1514 - acc: 0.9472 - val_loss: 0.3166 - val_acc: 0.9034\n",
            "Epoch 7/10\n",
            "659/659 [==============================] - 17s 25ms/step - loss: 0.1284 - acc: 0.9538 - val_loss: 0.3699 - val_acc: 0.8962\n",
            "Epoch 8/10\n",
            "659/659 [==============================] - 17s 25ms/step - loss: 0.1053 - acc: 0.9634 - val_loss: 0.4049 - val_acc: 0.8880\n",
            "Epoch 9/10\n",
            "659/659 [==============================] - 23s 34ms/step - loss: 0.0900 - acc: 0.9691 - val_loss: 0.4562 - val_acc: 0.8688\n",
            "Epoch 10/10\n",
            "659/659 [==============================] - 18s 27ms/step - loss: 0.0766 - acc: 0.9725 - val_loss: 0.4926 - val_acc: 0.8795\n",
            "Model: \"sequential\"\n",
            "_________________________________________________________________\n",
            " Layer (type)                Output Shape              Param #   \n",
            "=================================================================\n",
            " embedding (Embedding)       (None, None, 30)          900000    \n",
            "                                                                 \n",
            " dropout (Dropout)           (None, None, 30)          0         \n",
            "                                                                 \n",
            " conv1d (Conv1D)             (None, None, 32)          2912      \n",
            "                                                                 \n",
            " max_pooling1d (MaxPooling1D  (None, None, 32)         0         \n",
            " )                                                               \n",
            "                                                                 \n",
            " lstm (LSTM)                 (None, 100)               53200     \n",
            "                                                                 \n",
            " dropout_1 (Dropout)         (None, 100)               0         \n",
            "                                                                 \n",
            " dense (Dense)               (None, 1)                 101       \n",
            "                                                                 \n",
            "=================================================================\n",
            "Total params: 956,213\n",
            "Trainable params: 956,213\n",
            "Non-trainable params: 0\n",
            "_________________________________________________________________\n"
          ]
        }
      ]
    },
    {
      "cell_type": "code",
      "source": [
        "plt.plot(history_CNN_LSTM.history['loss'])\n",
        "plt.plot(history_CNN_LSTM.history['val_loss'])\n",
        "plt.xlabel('epoch')\n",
        "plt.ylabel('loss')\n",
        "plt.legend(['train', 'val'])\n",
        "plt.show()"
      ],
      "metadata": {
        "colab": {
          "base_uri": "https://localhost:8080/",
          "height": 449
        },
        "id": "KMNs8fhWzNuy",
        "outputId": "b850251c-f442-44eb-c476-95805932ed0d"
      },
      "execution_count": 16,
      "outputs": [
        {
          "output_type": "display_data",
          "data": {
            "text/plain": [
              "<Figure size 640x480 with 1 Axes>"
            ],
            "image/png": "[encoded data removed]"
          },
          "metadata": {}
        }
      ]
    },
    {
      "cell_type": "code",
      "source": [
        "model_CNN_LSTM.evaluate(val_x, val_y)"
      ],
      "metadata": {
        "colab": {
          "base_uri": "https://localhost:8080/"
        },
        "id": "xsUpiTPVzPfe",
        "outputId": "bbc91620-16ae-4a61-9163-e4e40265514b"
      },
      "execution_count": 17,
      "outputs": [
        {
          "output_type": "stream",
          "name": "stdout",
          "text": [
            "74/74 [==============================] - 0s 4ms/step - loss: 0.4926 - acc: 0.8795\n"
          ]
        },
        {
          "output_type": "execute_result",
          "data": {
            "text/plain": [
              "[0.4926426112651825, 0.879487156867981]"
            ]
          },
          "metadata": {},
          "execution_count": 17
        }
      ]
    },
    {
      "cell_type": "markdown",
      "source": [
        "# test set 예측"
      ],
      "metadata": {
        "id": "9Qi_yDwxzRQx"
      }
    },
    {
      "cell_type": "code",
      "source": [
        "def show_metrics(y_pred, y_actual) :\n",
        "  print('Accuracy  :',  accuracy_score(y_pred, y_actual))\n",
        "  print('Precision :', precision_score(y_pred, y_actual))\n",
        "  print('Recall    :',    recall_score(y_pred, y_actual))\n",
        "  print('F1-score  :',        f1_score(y_pred, y_actual))\n",
        "  print('Auc       :',   roc_auc_score(y_pred, y_actual))\n"
      ],
      "metadata": {
        "id": "jRBhJ95szQyj"
      },
      "execution_count": 18,
      "outputs": []
    },
    {
      "cell_type": "code",
      "source": [
        "def show_confusion_matrix(y_pred, y_actual, path, model_name) :\n",
        "  fig = plt.figure(figsize = (10, 8))\n",
        "  plt.title(model_name + ' Confusion Matrix')\n",
        "  sns.heatmap(confusion_matrix(y_pred, y_actual), annot = True, fmt = 'd',\n",
        "              cbar = False, cmap = sns.color_palette(\"Purples\",2),\n",
        "              xticklabels = ['Positive', 'Negative'],\n",
        "              yticklabels = ['Positive', 'Negative'])\n",
        "  plt.xlabel('Actuals')\n",
        "  plt.ylabel('Predicted')\n",
        "  plt.savefig(path + model_name +'_confusion_matrix.png', dpi = 300)\n",
        "  plt.show()"
      ],
      "metadata": {
        "id": "od3DC_yBzTCw"
      },
      "execution_count": 19,
      "outputs": []
    },
    {
      "cell_type": "code",
      "source": [
        "model_CNN_LSTM.evaluate(test_x,test_y)"
      ],
      "metadata": {
        "colab": {
          "base_uri": "https://localhost:8080/"
        },
        "id": "bDq9qlb4zTco",
        "outputId": "0a07ada9-d4bf-4dc9-e77f-31c4dc0d5a83"
      },
      "execution_count": 20,
      "outputs": [
        {
          "output_type": "stream",
          "name": "stdout",
          "text": [
            "82/82 [==============================] - 0s 4ms/step - loss: 0.5715 - acc: 0.8608\n"
          ]
        },
        {
          "output_type": "execute_result",
          "data": {
            "text/plain": [
              "[0.5715237259864807, 0.8607692122459412]"
            ]
          },
          "metadata": {},
          "execution_count": 20
        }
      ]
    },
    {
      "cell_type": "code",
      "source": [
        "y_pred = (model_CNN_LSTM.predict(test_x) > 0.5).astype(\"int32\")\n",
        "path2 = '/content/drive/MyDrive/ML2/'\n",
        "model_CNN_LSTM.save(path2 + 'CNN_LSTM.h5')"
      ],
      "metadata": {
        "colab": {
          "base_uri": "https://localhost:8080/"
        },
        "id": "QGm2YorEzUhT",
        "outputId": "d6ed8c10-963c-4d7b-ca22-be5608f5c3d2"
      },
      "execution_count": 21,
      "outputs": [
        {
          "output_type": "stream",
          "name": "stdout",
          "text": [
            "82/82 [==============================] - 1s 4ms/step\n"
          ]
        }
      ]
    },
    {
      "cell_type": "code",
      "source": [
        "show_metrics(y_pred, test_y)\n",
        "show_confusion_matrix(y_pred, test_y, path2, 'LSTM')"
      ],
      "metadata": {
        "colab": {
          "base_uri": "https://localhost:8080/",
          "height": 810
        },
        "id": "c5bE3Ha0zWc7",
        "outputId": "42eb73d0-0b7c-4508-f9e2-0aeb4efb592e"
      },
      "execution_count": 22,
      "outputs": [
        {
          "output_type": "stream",
          "name": "stdout",
          "text": [
            "Accuracy  : 0.8607692307692307\n",
            "Precision : 0.8615733736762481\n",
            "Recall    : 0.8641881638846738\n",
            "F1-score  : 0.8628787878787878\n",
            "Auc       : 0.8607212270281404\n"
          ]
        },
        {
          "output_type": "display_data",
          "data": {
            "text/plain": [
              "<Figure size 1000x800 with 1 Axes>"
            ],
            "image/png": "[encoded data removed]"
          },
          "metadata": {}
        }
      ]
    },
    {
      "cell_type": "markdown",
      "source": [
        "# 새로운 문장 예측"
      ],
      "metadata": {
        "id": "Unf3TBXG1aFG"
      }
    },
    {
      "cell_type": "code",
      "source": [
        "!pip install translate"
      ],
      "metadata": {
        "colab": {
          "base_uri": "https://localhost:8080/"
        },
        "id": "yLoMGgfCcx8z",
        "outputId": "0d4e5d81-c142-4353-fd15-e1739fe6946d"
      },
      "execution_count": 26,
      "outputs": [
        {
          "output_type": "stream",
          "name": "stdout",
          "text": [
            "Collecting translate\n",
            "  Downloading translate-3.6.1-py2.py3-none-any.whl (12 kB)\n",
            "Requirement already satisfied: click in /usr/local/lib/python3.10/dist-packages (from translate) (8.1.6)\n",
            "Requirement already satisfied: lxml in /usr/local/lib/python3.10/dist-packages (from translate) (4.9.3)\n",
            "Requirement already satisfied: requests in /usr/local/lib/python3.10/dist-packages (from translate) (2.27.1)\n",
            "Collecting libretranslatepy==2.1.1 (from translate)\n",
            "  Downloading libretranslatepy-2.1.1-py3-none-any.whl (3.2 kB)\n",
            "Requirement already satisfied: urllib3<1.27,>=1.21.1 in /usr/local/lib/python3.10/dist-packages (from requests->translate) (1.26.16)\n",
            "Requirement already satisfied: certifi>=2017.4.17 in /usr/local/lib/python3.10/dist-packages (from requests->translate) (2023.7.22)\n",
            "Requirement already satisfied: charset-normalizer~=2.0.0 in /usr/local/lib/python3.10/dist-packages (from requests->translate) (2.0.12)\n",
            "Requirement already satisfied: idna<4,>=2.5 in /usr/local/lib/python3.10/dist-packages (from requests->translate) (3.4)\n",
            "Installing collected packages: libretranslatepy, translate\n",
            "Successfully installed libretranslatepy-2.1.1 translate-3.6.1\n"
          ]
        }
      ]
    },
    {
      "cell_type": "code",
      "source": [
        "!pip install langdetect"
      ],
      "metadata": {
        "colab": {
          "base_uri": "https://localhost:8080/"
        },
        "id": "jOwTY03RelqU",
        "outputId": "d573a6af-39fd-4e02-ee1e-40c0dd448805"
      },
      "execution_count": 29,
      "outputs": [
        {
          "output_type": "stream",
          "name": "stdout",
          "text": [
            "Collecting langdetect\n",
            "  Downloading langdetect-1.0.9.tar.gz (981 kB)\n",
            "\u001b[2K     \u001b[90m━━━━━━━━━━━━━━━━━━━━━━━━━━━━━━━━━━━━━━━\u001b[0m \u001b[32m981.5/981.5 kB\u001b[0m \u001b[31m6.6 MB/s\u001b[0m eta \u001b[36m0:00:00\u001b[0m\n",
            "\u001b[?25h  Preparing metadata (setup.py) ... \u001b[?25l\u001b[?25hdone\n",
            "Requirement already satisfied: six in /usr/local/lib/python3.10/dist-packages (from langdetect) (1.16.0)\n",
            "Building wheels for collected packages: langdetect\n",
            "  Building wheel for langdetect (setup.py) ... \u001b[?25l\u001b[?25hdone\n",
            "  Created wheel for langdetect: filename=langdetect-1.0.9-py3-none-any.whl size=993223 sha256=1621598b01929648e4b26703fadff5f4ec0769bc0f7ece47a84843c958c9f6aa\n",
            "  Stored in directory: /root/.cache/pip/wheels/95/03/7d/59ea870c70ce4e5a370638b5462a7711ab78fba2f655d05106\n",
            "Successfully built langdetect\n",
            "Installing collected packages: langdetect\n",
            "Successfully installed langdetect-1.0.9\n"
          ]
        }
      ]
    },
    {
      "cell_type": "code",
      "source": [
        "from translate import Translator\n",
        "from langdetect import detect\n",
        "\n",
        "def get_prediction_from_user():\n",
        "    translator = Translator(from_lang=\"ko\", to_lang=\"en\") # 번역 객체를 생성합니다.\n",
        "\n",
        "    while True:\n",
        "        # 사용자에게 뉴스 제목을 입력받습니다.\n",
        "        title = input(\"뉴스 제목을 입력하세요 (0을 입력하면 종료됩니다.): \")\n",
        "\n",
        "        # 입력받은 제목이 '0'이라면 함수를 종료합니다.\n",
        "        if title == '0':\n",
        "            print(\"Program terminated.\")\n",
        "            break\n",
        "\n",
        "        # 사용자에게 뉴스 내용을 입력받습니다.\n",
        "        content = input(\"뉴스 내용을 입력하세요: \")\n",
        "\n",
        "        # 입력받은 제목과 내용이 한국어라면 영어로 번역합니다.\n",
        "        if detect(title) != 'en':\n",
        "            title = translator.translate(title)\n",
        "        if detect(content) != 'en':\n",
        "            content = translator.translate(content)\n",
        "\n",
        "        # 번역된 제목과 내용을 데이터프레임으로 만듭니다.\n",
        "        user_df = pd.DataFrame([[title, content]], columns=[\"title\", \"author\"])\n",
        "\n",
        "        # 데이터를 전처리합니다.\n",
        "        user_data_clean = data_clean(user_df)\n",
        "        user_corpus = text_cleaning(user_data_clean)\n",
        "        user_onehot_text = onehot(user_corpus)\n",
        "        user_tokens_pad = padding(user_onehot_text)\n",
        "\n",
        "        # 예측을 수행합니다.\n",
        "        prediction = model_CNN_LSTM.predict(user_tokens_pad)\n",
        "\n",
        "        # 예측 결과를 출력합니다.\n",
        "        if prediction > 0.5:\n",
        "            print(\"This news is likely to be fake.\")\n",
        "        else:\n",
        "            print(\"This news is likely to be real.\")\n",
        "        print(prediction)\n",
        "\n",
        "# 함수를 실행합니다.\n",
        "get_prediction_from_user()\n"
      ],
      "metadata": {
        "colab": {
          "base_uri": "https://localhost:8080/",
          "height": 944
        },
        "id": "wbg-2f0I1btm",
        "outputId": "3048c077-bd83-4f80-b6a1-03f8d4a1d33f"
      },
      "execution_count": 30,
      "outputs": [
        {
          "output_type": "stream",
          "name": "stdout",
          "text": [
            "뉴스 제목을 입력하세요 (0을 입력하면 종료됩니다.): U.S. Supreme Court Legalizes Same-Sex Marriage Nationwide\n",
            "뉴스 내용을 입력하세요: In a historic 5-4 ruling, the Supreme Court of the United States ruled in favor of same-sex marriage on June 26, 2015. The decision grants same-sex couples the same legal rights and benefits as those afforded to heterosexual couples and is applicable nationwide. The ruling means that the 14 states with bans on same-sex marriage will no longer be able to enforce them. The decision is the culmination of decades of litigation and advocacy and is seen as one of the most important civil rights cases of our time\n",
            "1/1 [==============================] - 0s 22ms/step\n",
            "This news is likely to be fake.\n",
            "[[0.89035714]]\n",
            "뉴스 제목을 입력하세요 (0을 입력하면 종료됩니다.): Malaysia Airlines Flight 370 Disappeared without a Trace\n",
            "뉴스 내용을 입력하세요: Malaysia Airlines Flight 370 Disappeared without a Trace\n",
            "1/1 [==============================] - 0s 21ms/step\n",
            "This news is likely to be real.\n",
            "[[0.33114636]]\n",
            "뉴스 제목을 입력하세요 (0을 입력하면 종료됩니다.): 세월호 침몰 사고, 전국적인 슬픔의 물결\n",
            "뉴스 내용을 입력하세요: 2014년 4월 16일, 대한민국의 여객선 '세월호'가 제주도로 향하던 중 침몰했다. 이 사건에서 304명이 사망했으며, 그 중 대부분은 안산 단원고등학교의 학생들이었다. 이 사고는 한국 전역에 충격과 슬픔의 물결을 불러왔으며, 국민들 사이에 안전 문제에 대한 심각한 우려를 야기했다. 사고 후 수사 결과, 선박의 과적재와 불안전한 조업, 그리고 선원들과 구조대의 부적절한 대응이 사고의 원인으로 지목되었다. 이 사건은 한국 사회의 여러 분야에서의 안전 문제와 부패에 대한 국민들의 인식을 바꾸는 계기가 되었다.\n",
            "1/1 [==============================] - 0s 24ms/step\n",
            "This news is likely to be fake.\n",
            "[[0.99996185]]\n",
            "뉴스 제목을 입력하세요 (0을 입력하면 종료됩니다.): Unresolved Mystery: Malaysia Airlines Flight 370 Vanishes Without Leaving Any Signs\n",
            "뉴스 내용을 입력하세요: In one of the most bewildering incidents in aviation history, Malaysia Airlines Flight 370 seemingly vanished into thin air on March 8, 2014, whilst travelling from Kuala Lumpur to Beijing. The Boeing 777-200ER aircraft, filled with 227 passengers hailing from 15 different countries and 12 crew members from Malaysia, became a ghost ship with no trace. Comprehensive search operations spanning the South China Sea, Gulf of Thailand, and the Indian Ocean have yet to reveal the flight's exact location. MH370's sudden disappearance has become an enduring enigma in the annals of aviation. Astonishingly, no distress signals or irregular data transmissions were sent from the aircraft before it disappeared. The Malaysian government, after three years of relentless but fruitless searching, made a sorrowful announcement in 2017: the search had been suspended.\n",
            "1/1 [==============================] - 0s 23ms/step\n",
            "This news is likely to be fake.\n",
            "[[0.93004096]]\n",
            "뉴스 제목을 입력하세요 (0을 입력하면 종료됩니다.): 미국 플로리다 클럽 총격...최소 50명 사망\n",
            "뉴스 내용을 입력하세요: 12일 새벽 미국 플로리다 주 올랜도의 나이트클럽에서 총격이 발생해 약 50명이 사망하고 최소 53명이 다쳤다고 경찰이 밝혔습니다.  이번 사건의 용의자는 아프가니스탄계 미국인 오마르 시디키 마틴으로 확인됐습니다.  미 연방수사국 FBI는 범인이 극단적인 이슬람주의를 신봉했을 수 있다며, 이 사건과 관련해 테러단체들의 개입을 수사하고 있다고 밝혔습니다.  소총과 권총으로 무장한 범인은 클럽에 있던 사람들을 인질로 붙잡고 경찰과 3시간 가량 대치하다 총격전 끝에 사살됐습니다.  당시 클럽에는 100여명의 남녀가 있었던 것으로 알려졌습니다.  이번 사건은 미국 역사상 최악의 총기난사 사건으로 기록될 전망입니다\n",
            "1/1 [==============================] - 0s 25ms/step\n",
            "This news is likely to be fake.\n",
            "[[0.9281761]]\n",
            "뉴스 제목을 입력하세요 (0을 입력하면 종료됩니다.): 미국, 2020년 中 제치고 제조업 1위 탈환\n",
            "뉴스 내용을 입력하세요: 미국이 2020년 중국을 제치고 제조업 경쟁력 1위 자리를 탈환할 것이란 연구결과가 발표됐다. 딜로이트 안진은 11일 딜로이트 글로벌이 발표한 '2016 글로벌 제조업 경쟁력 지수' 보고서를 통해 \"2020년에는 미국이 제조업 경쟁력 랭킹 1위를 탈환하고, 중국은 정상을 내어주며 2위에 머물 것으로 전망된다\"고 밝혔다.  이번 보고서에 따르면 올해부터 2020년까지 약간의 순위 변경은 있으나 상위 11개 국가가 지속적으로 상위권을 유지할 전망이다. 미국, 중국이 1,2위를 다투고 독일과 일본이 각각 3,4위를 유지한다. 11위에 랭크된 인도의 경우 5위로 뛰어오를 것으로 예측됐다. 반면 인도의 부상으로 한국과 캐나다, 싱가포르는 한 계단씩, 대만과 영국은 두 계단씩, 멕시코는 8위에서 11위로 세 계단 하락할 것으로 예측했다.\n",
            "1/1 [==============================] - 0s 22ms/step\n",
            "This news is likely to be fake.\n",
            "[[0.86178017]]\n"
          ]
        },
        {
          "output_type": "error",
          "ename": "KeyboardInterrupt",
          "evalue": "ignored",
          "traceback": [
            "\u001b[0;31m---------------------------------------------------------------------------\u001b[0m",
            "\u001b[0;31mKeyboardInterrupt\u001b[0m                         Traceback (most recent call last)",
            "\u001b[0;32m<ipython-input-30-1aa30b1b66d4>\u001b[0m in \u001b[0;36m<cell line: 45>\u001b[0;34m()\u001b[0m\n\u001b[1;32m     43\u001b[0m \u001b[0;34m\u001b[0m\u001b[0m\n\u001b[1;32m     44\u001b[0m \u001b[0;31m# 함수를 실행합니다.\u001b[0m\u001b[0;34m\u001b[0m\u001b[0;34m\u001b[0m\u001b[0m\n\u001b[0;32m---> 45\u001b[0;31m \u001b[0mget_prediction_from_user\u001b[0m\u001b[0;34m(\u001b[0m\u001b[0;34m)\u001b[0m\u001b[0;34m\u001b[0m\u001b[0;34m\u001b[0m\u001b[0m\n\u001b[0m",
            "\u001b[0;32m<ipython-input-30-1aa30b1b66d4>\u001b[0m in \u001b[0;36mget_prediction_from_user\u001b[0;34m()\u001b[0m\n\u001b[1;32m      7\u001b[0m     \u001b[0;32mwhile\u001b[0m \u001b[0;32mTrue\u001b[0m\u001b[0;34m:\u001b[0m\u001b[0;34m\u001b[0m\u001b[0;34m\u001b[0m\u001b[0m\n\u001b[1;32m      8\u001b[0m         \u001b[0;31m# 사용자에게 뉴스 제목을 입력받습니다.\u001b[0m\u001b[0;34m\u001b[0m\u001b[0;34m\u001b[0m\u001b[0m\n\u001b[0;32m----> 9\u001b[0;31m         \u001b[0mtitle\u001b[0m \u001b[0;34m=\u001b[0m \u001b[0minput\u001b[0m\u001b[0;34m(\u001b[0m\u001b[0;34m\"뉴스 제목을 입력하세요 (0을 입력하면 종료됩니다.): \"\u001b[0m\u001b[0;34m)\u001b[0m\u001b[0;34m\u001b[0m\u001b[0;34m\u001b[0m\u001b[0m\n\u001b[0m\u001b[1;32m     10\u001b[0m \u001b[0;34m\u001b[0m\u001b[0m\n\u001b[1;32m     11\u001b[0m         \u001b[0;31m# 입력받은 제목이 '0'이라면 함수를 종료합니다.\u001b[0m\u001b[0;34m\u001b[0m\u001b[0;34m\u001b[0m\u001b[0m\n",
            "\u001b[0;32m/usr/local/lib/python3.10/dist-packages/ipykernel/kernelbase.py\u001b[0m in \u001b[0;36mraw_input\u001b[0;34m(self, prompt)\u001b[0m\n\u001b[1;32m    849\u001b[0m                 \u001b[0;34m\"raw_input was called, but this frontend does not support input requests.\"\u001b[0m\u001b[0;34m\u001b[0m\u001b[0;34m\u001b[0m\u001b[0m\n\u001b[1;32m    850\u001b[0m             )\n\u001b[0;32m--> 851\u001b[0;31m         return self._input_request(str(prompt),\n\u001b[0m\u001b[1;32m    852\u001b[0m             \u001b[0mself\u001b[0m\u001b[0;34m.\u001b[0m\u001b[0m_parent_ident\u001b[0m\u001b[0;34m,\u001b[0m\u001b[0;34m\u001b[0m\u001b[0;34m\u001b[0m\u001b[0m\n\u001b[1;32m    853\u001b[0m             \u001b[0mself\u001b[0m\u001b[0;34m.\u001b[0m\u001b[0m_parent_header\u001b[0m\u001b[0;34m,\u001b[0m\u001b[0;34m\u001b[0m\u001b[0;34m\u001b[0m\u001b[0m\n",
            "\u001b[0;32m/usr/local/lib/python3.10/dist-packages/ipykernel/kernelbase.py\u001b[0m in \u001b[0;36m_input_request\u001b[0;34m(self, prompt, ident, parent, password)\u001b[0m\n\u001b[1;32m    893\u001b[0m             \u001b[0;32mexcept\u001b[0m \u001b[0mKeyboardInterrupt\u001b[0m\u001b[0;34m:\u001b[0m\u001b[0;34m\u001b[0m\u001b[0;34m\u001b[0m\u001b[0m\n\u001b[1;32m    894\u001b[0m                 \u001b[0;31m# re-raise KeyboardInterrupt, to truncate traceback\u001b[0m\u001b[0;34m\u001b[0m\u001b[0;34m\u001b[0m\u001b[0m\n\u001b[0;32m--> 895\u001b[0;31m                 \u001b[0;32mraise\u001b[0m \u001b[0mKeyboardInterrupt\u001b[0m\u001b[0;34m(\u001b[0m\u001b[0;34m\"Interrupted by user\"\u001b[0m\u001b[0;34m)\u001b[0m \u001b[0;32mfrom\u001b[0m \u001b[0;32mNone\u001b[0m\u001b[0;34m\u001b[0m\u001b[0;34m\u001b[0m\u001b[0m\n\u001b[0m\u001b[1;32m    896\u001b[0m             \u001b[0;32mexcept\u001b[0m \u001b[0mException\u001b[0m \u001b[0;32mas\u001b[0m \u001b[0me\u001b[0m\u001b[0;34m:\u001b[0m\u001b[0;34m\u001b[0m\u001b[0;34m\u001b[0m\u001b[0m\n\u001b[1;32m    897\u001b[0m                 \u001b[0mself\u001b[0m\u001b[0;34m.\u001b[0m\u001b[0mlog\u001b[0m\u001b[0;34m.\u001b[0m\u001b[0mwarning\u001b[0m\u001b[0;34m(\u001b[0m\u001b[0;34m\"Invalid Message:\"\u001b[0m\u001b[0;34m,\u001b[0m \u001b[0mexc_info\u001b[0m\u001b[0;34m=\u001b[0m\u001b[0;32mTrue\u001b[0m\u001b[0;34m)\u001b[0m\u001b[0;34m\u001b[0m\u001b[0;34m\u001b[0m\u001b[0m\n",
            "\u001b[0;31mKeyboardInterrupt\u001b[0m: Interrupted by user"
          ]
        }
      ]
    }
  ]
}