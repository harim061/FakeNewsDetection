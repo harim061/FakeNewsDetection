{
  "nbformat": 4,
  "nbformat_minor": 0,
  "metadata": {
    "colab": {
      "provenance": [],
      "authorship_tag": "ABX9TyPTr0bBwsH+XIGQx1IWzuA+",
      "include_colab_link": true
    },
    "kernelspec": {
      "name": "python3",
      "display_name": "Python 3"
    },
    "language_info": {
      "name": "python"
    }
  },
  "cells": [
    {
      "cell_type": "markdown",
      "metadata": {
        "id": "view-in-github",
        "colab_type": "text"
      },
      "source": [
        "<a href=\"https://colab.research.google.com/github/harim061/FakeNewsDetection/blob/main/fakeNews_2.ipynb\" target=\"_parent\"><img src=\"https://colab.research.google.com/assets/colab-badge.svg\" alt=\"Open In Colab\"/></a>"
      ]
    },
    {
      "cell_type": "markdown",
      "source": [
        "# 메소드"
      ],
      "metadata": {
        "id": "Tb5b0Waey0HE"
      }
    },
    {
      "cell_type": "code",
      "execution_count": 1,
      "metadata": {
        "colab": {
          "base_uri": "https://localhost:8080/"
        },
        "id": "PjWVGcOzxAyl",
        "outputId": "cd460463-ac00-47fe-87a3-4651c3579f12"
      },
      "outputs": [
        {
          "output_type": "stream",
          "name": "stdout",
          "text": [
            "Drive already mounted at /content/drive; to attempt to forcibly remount, call drive.mount(\"/content/drive\", force_remount=True).\n",
            "Requirement already satisfied: contractions in /usr/local/lib/python3.10/dist-packages (0.1.73)\n",
            "Requirement already satisfied: textsearch>=0.0.21 in /usr/local/lib/python3.10/dist-packages (from contractions) (0.0.24)\n",
            "Requirement already satisfied: anyascii in /usr/local/lib/python3.10/dist-packages (from textsearch>=0.0.21->contractions) (0.3.2)\n",
            "Requirement already satisfied: pyahocorasick in /usr/local/lib/python3.10/dist-packages (from textsearch>=0.0.21->contractions) (2.0.0)\n"
          ]
        },
        {
          "output_type": "stream",
          "name": "stderr",
          "text": [
            "[nltk_data] Downloading package punkt to /root/nltk_data...\n",
            "[nltk_data]   Package punkt is already up-to-date!\n",
            "[nltk_data] Downloading package stopwords to /root/nltk_data...\n",
            "[nltk_data]   Package stopwords is already up-to-date!\n",
            "[nltk_data] Downloading package wordnet to /root/nltk_data...\n",
            "[nltk_data]   Package wordnet is already up-to-date!\n",
            "[nltk_data] Downloading package averaged_perceptron_tagger to\n",
            "[nltk_data]     /root/nltk_data...\n",
            "[nltk_data]   Package averaged_perceptron_tagger is already up-to-\n",
            "[nltk_data]       date!\n"
          ]
        }
      ],
      "source": [
        "from google.colab import drive\n",
        "drive.mount('/content/drive')\n",
        "\n",
        "import numpy as np\n",
        "import pandas as pd\n",
        "import matplotlib.pyplot as plt\n",
        "import seaborn as sns\n",
        "\n",
        "import re\n",
        "import nltk\n",
        "from nltk.corpus import stopwords\n",
        "from nltk.stem.porter import PorterStemmer\n",
        "!pip install contractions\n",
        "import contractions\n",
        "nltk.download('punkt')\n",
        "nltk.download('stopwords')\n",
        "nltk.download('wordnet')\n",
        "nltk.download('averaged_perceptron_tagger')\n",
        "from nltk.tokenize import word_tokenize\n",
        "from nltk.stem import SnowballStemmer, WordNetLemmatizer\n",
        "\n",
        "from sklearn.feature_extraction.text import CountVectorizer, TfidfVectorizer, HashingVectorizer\n",
        "from sklearn.model_selection import train_test_split\n",
        "from sklearn.linear_model import LogisticRegression\n",
        "from sklearn.metrics import classification_report\n",
        "from sklearn.metrics import confusion_matrix, precision_score, \\\n",
        "                             recall_score, f1_score, roc_curve, \\\n",
        "                             accuracy_score, roc_auc_score\n",
        "from sklearn.model_selection import ParameterGrid, GridSearchCV\n",
        "\n",
        "\n",
        "import tensorflow as tf\n",
        "from tensorflow import keras\n",
        "from tensorflow.keras import layers as L\n",
        "from tensorflow.keras.layers import  Embedding\n",
        "from tensorflow.keras.layers import Bidirectional\n",
        "from tensorflow.keras.preprocessing.sequence import pad_sequences\n",
        "from tensorflow.keras.preprocessing.text import one_hot\n",
        "from tensorflow.keras.layers import Dense, Dropout, LSTM, Embedding, GRU, SimpleRNN\n",
        "from tensorflow.keras.models import Sequential\n",
        "from tensorflow.python.keras.callbacks import EarlyStopping\n",
        "\n",
        "from __future__ import absolute_import, division, print_function, unicode_literals\n",
        "\n",
        "VOCAB_SIZE = 5000"
      ]
    },
    {
      "cell_type": "code",
      "source": [
        "path = '/content/drive/MyDrive/kaggle_data/'\n",
        "test= pd.read_csv(path + 'test.csv'  )\n",
        "train= pd.read_csv(path + 'train.csv' )\n",
        "submit= pd.read_csv(path + 'submit.csv')"
      ],
      "metadata": {
        "id": "M8MFmPj9xLbN"
      },
      "execution_count": 6,
      "outputs": []
    },
    {
      "cell_type": "markdown",
      "source": [
        "# 데이터 전처리"
      ],
      "metadata": {
        "id": "fsfOqHoeyx39"
      }
    },
    {
      "cell_type": "code",
      "source": [
        "def data_clean(dt):\n",
        "  dt = dt.fillna('')\n",
        "  dt[\"total\"] = dt['title'] + \" \" + dt[\"author\"]\n",
        "  return dt"
      ],
      "metadata": {
        "id": "cjcEXZ1syxnd"
      },
      "execution_count": 36,
      "outputs": []
    },
    {
      "cell_type": "code",
      "source": [
        "\n",
        "def text_cleaning(df):\n",
        "    ps = PorterStemmer()\n",
        "    corpus = []\n",
        "    for i in range(len(df)):\n",
        "        m = re.sub(\"[^a-zA-Z]\", \" \", df[\"total\"][i])\n",
        "        m = m.lower()\n",
        "        m = m.split()\n",
        "        m = [ps.stem(word) for word in m if not word in stopwords.words('english')]\n",
        "        clean_text = \" \".join(m)\n",
        "        corpus.append(clean_text)\n",
        "    return corpus\n",
        ""
      ],
      "metadata": {
        "id": "XloEii4Ry2n5"
      },
      "execution_count": 8,
      "outputs": []
    },
    {
      "cell_type": "code",
      "source": [
        "def onehot(corpus, VOCAB_SIZE = 5000):\n",
        "  return [one_hot(words, VOCAB_SIZE) for words in corpus]"
      ],
      "metadata": {
        "id": "tn2tIn5Iy4YK"
      },
      "execution_count": 9,
      "outputs": []
    },
    {
      "cell_type": "code",
      "source": [
        "def padding(onehot_text) :\n",
        "  return np.array(pad_sequences(onehot_text, padding=\"pre\", maxlen = 25))"
      ],
      "metadata": {
        "id": "gGOb3c0dy6lv"
      },
      "execution_count": 10,
      "outputs": []
    },
    {
      "cell_type": "code",
      "source": [
        "def get_label(df):\n",
        "  return np.array(df[\"label\"])"
      ],
      "metadata": {
        "id": "lxurAZpzy76x"
      },
      "execution_count": 11,
      "outputs": []
    },
    {
      "cell_type": "code",
      "source": [
        "def make_clean(df) :\n",
        "  corpus = data_clean(df)\n",
        "  corpus = text_cleaning(corpus)\n",
        "  corpus = onehot(corpus)\n",
        "  corpus = padding(corpus)\n",
        "  return   corpus"
      ],
      "metadata": {
        "id": "L4uQJUqOy8hQ"
      },
      "execution_count": 12,
      "outputs": []
    },
    {
      "cell_type": "code",
      "source": [
        "def get_data() :\n",
        "  path = '/content/drive/MyDrive/kaggle_data/'\n",
        "  test   = pd.read_csv(path + 'test.csv'  )\n",
        "  train  = pd.read_csv(path + 'train.csv' )\n",
        "  submit = pd.read_csv(path + 'submit.csv')\n",
        "\n",
        "  x = np.array(list(make_clean(train)) + list(make_clean(test )))\n",
        "  y = np.array(list(get_label(train )) + list(get_label(submit)))\n",
        "  return train_test_split(x, y, test_size = 0.1, random_state = 1234)"
      ],
      "metadata": {
        "id": "NEb53WTjy9nq"
      },
      "execution_count": 13,
      "outputs": []
    },
    {
      "cell_type": "code",
      "source": [
        "\n",
        "def save_data(path, train_x, test_x, train_y, test_y) :\n",
        "  np.save(path + 'train_x', train_x)\n",
        "  np.save(path + 'test_x' , test_x )\n",
        "  np.save(path + 'train_y', train_x)\n",
        "  np.save(path + 'test_y' , test_x )"
      ],
      "metadata": {
        "id": "tbzoLy6dy-tn"
      },
      "execution_count": 14,
      "outputs": []
    },
    {
      "cell_type": "code",
      "source": [
        "\n",
        "train_x, test_x, train_y, test_y = get_data()\n",
        "\n",
        "save_data(path, train_x, test_x, train_y, test_y)"
      ],
      "metadata": {
        "id": "NWvTng6Ay_8_"
      },
      "execution_count": 15,
      "outputs": []
    },
    {
      "cell_type": "code",
      "source": [
        "train_x,val_x,train_y,val_y = train_test_split(train_x,train_y,test_size = 0.1,random_state = 1234)"
      ],
      "metadata": {
        "id": "g9x9uFOxzAQ1"
      },
      "execution_count": 16,
      "outputs": []
    },
    {
      "cell_type": "code",
      "source": [
        "print(train_x.shape)\n",
        "print(train_y.shape)\n",
        "print(val_x.shape)\n",
        "print(val_y.shape)\n",
        "print(test_x.shape)\n",
        "print(test_y.shape)"
      ],
      "metadata": {
        "colab": {
          "base_uri": "https://localhost:8080/"
        },
        "id": "zbfLuRXWzBpx",
        "outputId": "7cf06883-888d-4b0f-a92c-a7dddf1de504"
      },
      "execution_count": 17,
      "outputs": [
        {
          "output_type": "stream",
          "name": "stdout",
          "text": [
            "(21060, 25)\n",
            "(21060,)\n",
            "(2340, 25)\n",
            "(2340,)\n",
            "(2600, 25)\n",
            "(2600,)\n"
          ]
        }
      ]
    },
    {
      "cell_type": "markdown",
      "source": [
        "# 모델링 - CNN-LSTM"
      ],
      "metadata": {
        "id": "CVRrop5DzCYR"
      }
    },
    {
      "cell_type": "code",
      "source": [
        "train_x.shape"
      ],
      "metadata": {
        "colab": {
          "base_uri": "https://localhost:8080/"
        },
        "id": "6WtxwsufzHpP",
        "outputId": "c8c6df34-abeb-488e-f956-42a9783b7337"
      },
      "execution_count": 18,
      "outputs": [
        {
          "output_type": "execute_result",
          "data": {
            "text/plain": [
              "(21060, 25)"
            ]
          },
          "metadata": {},
          "execution_count": 18
        }
      ]
    },
    {
      "cell_type": "code",
      "source": [
        "model_CNN_LSTM = Sequential()\n",
        "model_CNN_LSTM.add(keras.layers.Embedding(30000, 30))\n",
        "model_CNN_LSTM.add(keras.layers.Dropout(0.3))\n",
        "model_CNN_LSTM.add(keras.layers.Conv1D(32, 3, padding='same', strides=1,activation='relu'))\n",
        "model_CNN_LSTM.add(keras.layers.MaxPooling1D(2))\n",
        "model_CNN_LSTM.add(LSTM(100))\n",
        "model_CNN_LSTM.add(keras.layers.Dropout(0.3))\n",
        "model_CNN_LSTM.add(Dense(1, activation='sigmoid'))\n",
        "model_CNN_LSTM.compile(optimizer = 'Adam', loss='binary_crossentropy', metrics=['acc'])\n",
        "history_CNN_LSTM = model_CNN_LSTM.fit(train_x, train_y, epochs=10,\n",
        "                    validation_data=(val_x, val_y))\n",
        "model_CNN_LSTM.summary()\n",
        "\n"
      ],
      "metadata": {
        "colab": {
          "base_uri": "https://localhost:8080/"
        },
        "id": "JqkI-PeyzI0N",
        "outputId": "eaba377e-6117-4a62-c51d-137f17e80d71"
      },
      "execution_count": 20,
      "outputs": [
        {
          "output_type": "stream",
          "name": "stdout",
          "text": [
            "Epoch 1/10\n",
            "659/659 [==============================] - 36s 48ms/step - loss: 0.3286 - acc: 0.8784 - val_loss: 0.2661 - val_acc: 0.9120\n",
            "Epoch 2/10\n",
            "659/659 [==============================] - 27s 42ms/step - loss: 0.2477 - acc: 0.9188 - val_loss: 0.2619 - val_acc: 0.9150\n",
            "Epoch 3/10\n",
            "659/659 [==============================] - 23s 34ms/step - loss: 0.2217 - acc: 0.9266 - val_loss: 0.2683 - val_acc: 0.9124\n",
            "Epoch 4/10\n",
            "659/659 [==============================] - 21s 32ms/step - loss: 0.1993 - acc: 0.9321 - val_loss: 0.2788 - val_acc: 0.9043\n",
            "Epoch 5/10\n",
            "659/659 [==============================] - 24s 36ms/step - loss: 0.1779 - acc: 0.9385 - val_loss: 0.3122 - val_acc: 0.9026\n",
            "Epoch 6/10\n",
            "659/659 [==============================] - 22s 33ms/step - loss: 0.1570 - acc: 0.9442 - val_loss: 0.3192 - val_acc: 0.8940\n",
            "Epoch 7/10\n",
            "659/659 [==============================] - 22s 34ms/step - loss: 0.1348 - acc: 0.9516 - val_loss: 0.3608 - val_acc: 0.8825\n",
            "Epoch 8/10\n",
            "659/659 [==============================] - 21s 32ms/step - loss: 0.1152 - acc: 0.9579 - val_loss: 0.4154 - val_acc: 0.8838\n",
            "Epoch 9/10\n",
            "659/659 [==============================] - 22s 34ms/step - loss: 0.1002 - acc: 0.9628 - val_loss: 0.4357 - val_acc: 0.8786\n",
            "Epoch 10/10\n",
            "659/659 [==============================] - 22s 33ms/step - loss: 0.0837 - acc: 0.9692 - val_loss: 0.4732 - val_acc: 0.8628\n",
            "Model: \"sequential_1\"\n",
            "_________________________________________________________________\n",
            " Layer (type)                Output Shape              Param #   \n",
            "=================================================================\n",
            " embedding_1 (Embedding)     (None, None, 30)          900000    \n",
            "                                                                 \n",
            " dropout_2 (Dropout)         (None, None, 30)          0         \n",
            "                                                                 \n",
            " conv1d_1 (Conv1D)           (None, None, 32)          2912      \n",
            "                                                                 \n",
            " max_pooling1d_1 (MaxPooling  (None, None, 32)         0         \n",
            " 1D)                                                             \n",
            "                                                                 \n",
            " lstm_1 (LSTM)               (None, 100)               53200     \n",
            "                                                                 \n",
            " dropout_3 (Dropout)         (None, 100)               0         \n",
            "                                                                 \n",
            " dense_1 (Dense)             (None, 1)                 101       \n",
            "                                                                 \n",
            "=================================================================\n",
            "Total params: 956,213\n",
            "Trainable params: 956,213\n",
            "Non-trainable params: 0\n",
            "_________________________________________________________________\n"
          ]
        }
      ]
    },
    {
      "cell_type": "code",
      "source": [
        "plt.plot(history_CNN_LSTM.history['loss'])\n",
        "plt.plot(history_CNN_LSTM.history['val_loss'])\n",
        "plt.xlabel('epoch')\n",
        "plt.ylabel('loss')\n",
        "plt.legend(['train', 'val'])\n",
        "plt.show()"
      ],
      "metadata": {
        "colab": {
          "base_uri": "https://localhost:8080/",
          "height": 449
        },
        "id": "KMNs8fhWzNuy",
        "outputId": "0c1224b8-bcde-44c5-f659-0a20a46683aa"
      },
      "execution_count": 21,
      "outputs": [
        {
          "output_type": "display_data",
          "data": {
            "text/plain": [
              "<Figure size 640x480 with 1 Axes>"
            ],
            "image/png": "[encoded data removed]"
          },
          "metadata": {}
        }
      ]
    },
    {
      "cell_type": "code",
      "source": [
        "model_CNN_LSTM.evaluate(val_x, val_y)"
      ],
      "metadata": {
        "colab": {
          "base_uri": "https://localhost:8080/"
        },
        "id": "xsUpiTPVzPfe",
        "outputId": "fc5f6d38-d53c-4afb-a038-247a7e33e56e"
      },
      "execution_count": 22,
      "outputs": [
        {
          "output_type": "stream",
          "name": "stdout",
          "text": [
            "74/74 [==============================] - 1s 15ms/step - loss: 0.4732 - acc: 0.8628\n"
          ]
        },
        {
          "output_type": "execute_result",
          "data": {
            "text/plain": [
              "[0.4732479751110077, 0.8628205060958862]"
            ]
          },
          "metadata": {},
          "execution_count": 22
        }
      ]
    },
    {
      "cell_type": "markdown",
      "source": [
        "# test set 예측"
      ],
      "metadata": {
        "id": "9Qi_yDwxzRQx"
      }
    },
    {
      "cell_type": "code",
      "source": [
        "def show_metrics(y_pred, y_actual) :\n",
        "  print('Accuracy  :',  accuracy_score(y_pred, y_actual))\n",
        "  print('Precision :', precision_score(y_pred, y_actual))\n",
        "  print('Recall    :',    recall_score(y_pred, y_actual))\n",
        "  print('F1-score  :',        f1_score(y_pred, y_actual))\n",
        "  print('Auc       :',   roc_auc_score(y_pred, y_actual))\n",
        ""
      ],
      "metadata": {
        "id": "jRBhJ95szQyj"
      },
      "execution_count": 23,
      "outputs": []
    },
    {
      "cell_type": "code",
      "source": [
        "def show_confusion_matrix(y_pred, y_actual, path, model_name) :\n",
        "  fig = plt.figure(figsize = (10, 8))\n",
        "  plt.title(model_name + ' Confusion Matrix')\n",
        "  sns.heatmap(confusion_matrix(y_pred, y_actual), annot = True, fmt = 'd',\n",
        "              cbar = False, cmap = sns.color_palette(\"Purples\",2),\n",
        "              xticklabels = ['Positive', 'Negative'],\n",
        "              yticklabels = ['Positive', 'Negative'])\n",
        "  plt.xlabel('Actuals')\n",
        "  plt.ylabel('Predicted')\n",
        "  plt.savefig(path + model_name +'_confusion_matrix.png', dpi = 300)\n",
        "  plt.show()"
      ],
      "metadata": {
        "id": "od3DC_yBzTCw"
      },
      "execution_count": 24,
      "outputs": []
    },
    {
      "cell_type": "code",
      "source": [
        "model_CNN_LSTM.evaluate(test_x,test_y)"
      ],
      "metadata": {
        "colab": {
          "base_uri": "https://localhost:8080/"
        },
        "id": "bDq9qlb4zTco",
        "outputId": "28f97a43-a724-4e86-ae78-1aa31ff782dc"
      },
      "execution_count": 26,
      "outputs": [
        {
          "output_type": "stream",
          "name": "stdout",
          "text": [
            "82/82 [==============================] - 1s 10ms/step - loss: 0.5025 - acc: 0.8588\n"
          ]
        },
        {
          "output_type": "execute_result",
          "data": {
            "text/plain": [
              "[0.5025308728218079, 0.858846127986908]"
            ]
          },
          "metadata": {},
          "execution_count": 26
        }
      ]
    },
    {
      "cell_type": "code",
      "source": [
        "y_pred = (model_CNN_LSTM.predict(test_x) > 0.5).astype(\"int32\")\n",
        "path2 = '/content/drive/MyDrive/ML2/'\n",
        "model_CNN_LSTM.save(path2 + 'CNN_LSTM.h5')"
      ],
      "metadata": {
        "colab": {
          "base_uri": "https://localhost:8080/"
        },
        "id": "QGm2YorEzUhT",
        "outputId": "d24fc62b-721e-47e1-9223-c76ac5a9555e"
      },
      "execution_count": 27,
      "outputs": [
        {
          "output_type": "stream",
          "name": "stdout",
          "text": [
            "82/82 [==============================] - 4s 16ms/step\n"
          ]
        }
      ]
    },
    {
      "cell_type": "code",
      "source": [
        "show_metrics(y_pred, test_y)\n",
        "show_confusion_matrix(y_pred, test_y, path2, 'LSTM')"
      ],
      "metadata": {
        "colab": {
          "base_uri": "https://localhost:8080/",
          "height": 809
        },
        "id": "c5bE3Ha0zWc7",
        "outputId": "9a72ba8f-0fd1-4453-86d4-1f2a7f3061ee"
      },
      "execution_count": 28,
      "outputs": [
        {
          "output_type": "stream",
          "name": "stdout",
          "text": [
            "Accuracy  : 0.8588461538461538\n",
            "Precision : 0.8683812405446294\n",
            "Recall    : 0.8560775540641312\n",
            "F1-score  : 0.8621855050694704\n",
            "Auc       : 0.8589363147604214\n"
          ]
        },
        {
          "output_type": "display_data",
          "data": {
            "text/plain": [
              "<Figure size 1000x800 with 1 Axes>"
            ],
            "image/png": "[encoded data removed]"
          },
          "metadata": {}
        }
      ]
    },
    {
      "cell_type": "markdown",
      "source": [
        "# 새로운 문장 예측"
      ],
      "metadata": {
        "id": "Unf3TBXG1aFG"
      }
    },
    {
      "cell_type": "code",
      "source": [
        "def get_prediction_from_user():\n",
        "    while True:\n",
        "        # 사용자에게 뉴스 제목을 입력받습니다.\n",
        "        title = input(\"뉴스 제목을 입력하세요 (0을 입력하면 종료됩니다.): \")\n",
        "\n",
        "        # 입력받은 제목이 '0'이라면 함수를 종료합니다.\n",
        "        if title == '0':\n",
        "            print(\"Program terminated.\")\n",
        "            break\n",
        "\n",
        "        # 사용자에게 뉴스 내용을 입력받습니다.\n",
        "        content = input(\"뉴스 내용을 입력하세요: \")\n",
        "\n",
        "        # 입력받은 제목과 내용을 데이터프레임으로 만듭니다.\n",
        "        user_df = pd.DataFrame([[title, content]], columns=[\"title\", \"author\"])\n",
        "\n",
        "        # 데이터를 전처리합니다.\n",
        "        user_data_clean = data_clean(user_df)\n",
        "        user_corpus = text_cleaning(user_data_clean)\n",
        "        user_onehot_text = onehot(user_corpus)\n",
        "        user_tokens_pad = padding(user_onehot_text)\n",
        "\n",
        "        # 예측을 수행합니다.\n",
        "        prediction = model_CNN_LSTM.predict(user_tokens_pad)\n",
        "\n",
        "        # 예측 결과를 출력합니다.\n",
        "        if prediction > 0.5:\n",
        "            print(\"This news is likely to be fake.\")\n",
        "        else:\n",
        "            print(\"This news is likely to be real.\")\n",
        "        print(prediction)\n",
        "\n",
        "# 함수를 실행합니다.\n",
        "get_prediction_from_user()"
      ],
      "metadata": {
        "colab": {
          "base_uri": "https://localhost:8080/"
        },
        "id": "wbg-2f0I1btm",
        "outputId": "88455532-4043-4651-c83a-1b8e4267dc9f"
      },
      "execution_count": 44,
      "outputs": [
        {
          "output_type": "stream",
          "name": "stdout",
          "text": [
            "뉴스 제목을 입력하세요 (0을 입력하면 종료됩니다.): Trump Withdraws U.S. From 'One-Sided' Paris Climate Accord\n",
            "뉴스 내용을 입력하세요: President Trump announced on Thursday that the United States would withdraw from the Paris climate accord, weakening efforts to combat global warming and embracing isolationist voices in his White House who argued that the agreement was a pernicious threat to the economy and American sovereignty. In a speech from the Rose Garden, Mr. Trump said the landmark 2015 pact imposed wildly unfair environmental standards on American businesses and workers. He vowed to stand with the people of the United States against what he called a “draconian” international deal.\n",
            "1/1 [==============================] - 0s 24ms/step\n",
            "This news is likely to be real.\n",
            "[[0.37099576]]\n",
            "뉴스 제목을 입력하세요 (0을 입력하면 종료됩니다.): Aliens Discovered Living Among Us, NASA Confirms\n",
            "뉴스 내용을 입력하세요: In a shocking revelation today, NASA has confirmed that aliens have been living among us for years. They have been disguising themselves as humans and integrating themselves into our societies. The announcement was made by the head of NASA's Extraterrestrial Life Department, a previously undisclosed department of the space agency. He stated, 'We have known for some time now. The aliens are peaceful and have been helping us in many ways.' Details on the exact number of aliens, their origins, or reasons for coming to Earth were not disclosed. This marks an unprecedented event in human history as we finally realize we are not alone in the universe.\n",
            "1/1 [==============================] - 0s 37ms/step\n",
            "This news is likely to be fake.\n",
            "[[0.93596774]]\n",
            "뉴스 제목을 입력하세요 (0을 입력하면 종료됩니다.): 0\n",
            "Program terminated.\n"
          ]
        }
      ]
    }
  ]
}