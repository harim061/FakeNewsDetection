{
  "nbformat": 4,
  "nbformat_minor": 0,
  "metadata": {
    "colab": {
      "provenance": [],
      "authorship_tag": "ABX9TyPxdQbamQJ3X49roRYy15s6",
      "include_colab_link": true
    },
    "kernelspec": {
      "name": "python3",
      "display_name": "Python 3"
    },
    "language_info": {
      "name": "python"
    }
  },
  "cells": [
    {
      "cell_type": "markdown",
      "metadata": {
        "id": "view-in-github",
        "colab_type": "text"
      },
      "source": [
        "<a href=\"https://colab.research.google.com/github/harim061/FakeNewsDetection/blob/main/FND4.ipynb\" target=\"_parent\"><img src=\"https://colab.research.google.com/assets/colab-badge.svg\" alt=\"Open In Colab\"/></a>"
      ]
    },
    {
      "cell_type": "code",
      "execution_count": 1,
      "metadata": {
        "id": "iL0xS6AxgrHw"
      },
      "outputs": [],
      "source": [
        "import pandas as pd\n",
        "import re\n",
        "from nltk.stem.porter import PorterStemmer\n",
        "from sklearn.feature_extraction.text import TfidfVectorizer\n",
        "from sklearn.model_selection import train_test_split\n",
        "import pickle\n",
        "from sklearn.linear_model import LogisticRegressionCV"
      ]
    },
    {
      "cell_type": "code",
      "source": [
        "from google.colab import drive\n",
        "drive.mount('/content/drive')"
      ],
      "metadata": {
        "colab": {
          "base_uri": "https://localhost:8080/"
        },
        "id": "1liiRdk3EcHt",
        "outputId": "f359440f-f9c8-44a4-b97d-bb605de185a6"
      },
      "execution_count": 2,
      "outputs": [
        {
          "output_type": "stream",
          "name": "stdout",
          "text": [
            "Mounted at /content/drive\n"
          ]
        }
      ]
    },
    {
      "cell_type": "code",
      "source": [
        "import time\n",
        "start = time.time()"
      ],
      "metadata": {
        "id": "MPrrn5krsrg8"
      },
      "execution_count": 3,
      "outputs": []
    },
    {
      "cell_type": "code",
      "source": [
        "path = '/content/drive/MyDrive/fakeData/'"
      ],
      "metadata": {
        "id": "UKUnOVJCE6UO"
      },
      "execution_count": 4,
      "outputs": []
    },
    {
      "cell_type": "code",
      "source": [
        "fake_df = pd.read_csv(path +'Fake.csv')\n",
        "real_df = pd.read_csv(path +'True.csv')"
      ],
      "metadata": {
        "id": "cAKB1M6Sss1B"
      },
      "execution_count": 5,
      "outputs": []
    },
    {
      "cell_type": "code",
      "source": [
        "fake_df = fake_df[['title', 'text']]\n",
        "real_df = real_df[['title', 'text']]"
      ],
      "metadata": {
        "id": "3CAGcFBH1Xzh"
      },
      "execution_count": 6,
      "outputs": []
    },
    {
      "cell_type": "code",
      "source": [
        "fake_df['check'] = 0\n",
        "real_df['check'] = 1\n",
        "df = pd.concat([fake_df, real_df], ignore_index=True, sort=False)"
      ],
      "metadata": {
        "id": "0wxv5lAetsUK",
        "colab": {
          "base_uri": "https://localhost:8080/"
        },
        "outputId": "a0b19b76-2c3c-46b0-ab0b-9c19db761c48"
      },
      "execution_count": 7,
      "outputs": [
        {
          "output_type": "stream",
          "name": "stderr",
          "text": [
            "<ipython-input-7-d8a84075019a>:1: SettingWithCopyWarning: \n",
            "A value is trying to be set on a copy of a slice from a DataFrame.\n",
            "Try using .loc[row_indexer,col_indexer] = value instead\n",
            "\n",
            "See the caveats in the documentation: https://pandas.pydata.org/pandas-docs/stable/user_guide/indexing.html#returning-a-view-versus-a-copy\n",
            "  fake_df['check'] = 0\n"
          ]
        }
      ]
    },
    {
      "cell_type": "code",
      "source": [
        "df.head()"
      ],
      "metadata": {
        "id": "MHy4gopktwfu",
        "colab": {
          "base_uri": "https://localhost:8080/",
          "height": 206
        },
        "outputId": "72771824-29c5-4b8f-fcd8-596bf28e6b9b"
      },
      "execution_count": 8,
      "outputs": [
        {
          "output_type": "execute_result",
          "data": {
            "text/plain": [
              "                                               title  \\\n",
              "0   Donald Trump Sends Out Embarrassing New Year’...   \n",
              "1   Drunk Bragging Trump Staffer Started Russian ...   \n",
              "2   Sheriff David Clarke Becomes An Internet Joke...   \n",
              "3   Trump Is So Obsessed He Even Has Obama’s Name...   \n",
              "4   Pope Francis Just Called Out Donald Trump Dur...   \n",
              "\n",
              "                                                text  check  \n",
              "0  Donald Trump just couldn t wish all Americans ...      0  \n",
              "1  House Intelligence Committee Chairman Devin Nu...      0  \n",
              "2  On Friday, it was revealed that former Milwauk...      0  \n",
              "3  On Christmas day, Donald Trump announced that ...      0  \n",
              "4  Pope Francis used his annual Christmas Day mes...      0  "
            ],
            "text/html": [
              "\n",
              "\n",
              "  <div id=\"df-a121dfa2-aeac-407d-8ca1-af2992a55208\">\n",
              "    <div class=\"colab-df-container\">\n",
              "      <div>\n",
              "<style scoped>\n",
              "    .dataframe tbody tr th:only-of-type {\n",
              "        vertical-align: middle;\n",
              "    }\n",
              "\n",
              "    .dataframe tbody tr th {\n",
              "        vertical-align: top;\n",
              "    }\n",
              "\n",
              "    .dataframe thead th {\n",
              "        text-align: right;\n",
              "    }\n",
              "</style>\n",
              "<table border=\"1\" class=\"dataframe\">\n",
              "  <thead>\n",
              "    <tr style=\"text-align: right;\">\n",
              "      <th></th>\n",
              "      <th>title</th>\n",
              "      <th>text</th>\n",
              "      <th>check</th>\n",
              "    </tr>\n",
              "  </thead>\n",
              "  <tbody>\n",
              "    <tr>\n",
              "      <th>0</th>\n",
              "      <td>Donald Trump Sends Out Embarrassing New Year’...</td>\n",
              "      <td>Donald Trump just couldn t wish all Americans ...</td>\n",
              "      <td>0</td>\n",
              "    </tr>\n",
              "    <tr>\n",
              "      <th>1</th>\n",
              "      <td>Drunk Bragging Trump Staffer Started Russian ...</td>\n",
              "      <td>House Intelligence Committee Chairman Devin Nu...</td>\n",
              "      <td>0</td>\n",
              "    </tr>\n",
              "    <tr>\n",
              "      <th>2</th>\n",
              "      <td>Sheriff David Clarke Becomes An Internet Joke...</td>\n",
              "      <td>On Friday, it was revealed that former Milwauk...</td>\n",
              "      <td>0</td>\n",
              "    </tr>\n",
              "    <tr>\n",
              "      <th>3</th>\n",
              "      <td>Trump Is So Obsessed He Even Has Obama’s Name...</td>\n",
              "      <td>On Christmas day, Donald Trump announced that ...</td>\n",
              "      <td>0</td>\n",
              "    </tr>\n",
              "    <tr>\n",
              "      <th>4</th>\n",
              "      <td>Pope Francis Just Called Out Donald Trump Dur...</td>\n",
              "      <td>Pope Francis used his annual Christmas Day mes...</td>\n",
              "      <td>0</td>\n",
              "    </tr>\n",
              "  </tbody>\n",
              "</table>\n",
              "</div>\n",
              "      <button class=\"colab-df-convert\" onclick=\"convertToInteractive('df-a121dfa2-aeac-407d-8ca1-af2992a55208')\"\n",
              "              title=\"Convert this dataframe to an interactive table.\"\n",
              "              style=\"display:none;\">\n",
              "\n",
              "  <svg xmlns=\"http://www.w3.org/2000/svg\" height=\"24px\"viewBox=\"0 0 24 24\"\n",
              "       width=\"24px\">\n",
              "    <path d=\"M0 0h24v24H0V0z\" fill=\"none\"/>\n",
              "    <path d=\"M18.56 5.44l.94 2.06.94-2.06 2.06-.94-2.06-.94-.94-2.06-.94 2.06-2.06.94zm-11 1L8.5 8.5l.94-2.06 2.06-.94-2.06-.94L8.5 2.5l-.94 2.06-2.06.94zm10 10l.94 2.06.94-2.06 2.06-.94-2.06-.94-.94-2.06-.94 2.06-2.06.94z\"/><path d=\"M17.41 7.96l-1.37-1.37c-.4-.4-.92-.59-1.43-.59-.52 0-1.04.2-1.43.59L10.3 9.45l-7.72 7.72c-.78.78-.78 2.05 0 2.83L4 21.41c.39.39.9.59 1.41.59.51 0 1.02-.2 1.41-.59l7.78-7.78 2.81-2.81c.8-.78.8-2.07 0-2.86zM5.41 20L4 18.59l7.72-7.72 1.47 1.35L5.41 20z\"/>\n",
              "  </svg>\n",
              "      </button>\n",
              "\n",
              "\n",
              "\n",
              "    <div id=\"df-3fe9f9fa-4883-4887-b94d-8e52246d92b1\">\n",
              "      <button class=\"colab-df-quickchart\" onclick=\"quickchart('df-3fe9f9fa-4883-4887-b94d-8e52246d92b1')\"\n",
              "              title=\"Suggest charts.\"\n",
              "              style=\"display:none;\">\n",
              "\n",
              "<svg xmlns=\"http://www.w3.org/2000/svg\" height=\"24px\"viewBox=\"0 0 24 24\"\n",
              "     width=\"24px\">\n",
              "    <g>\n",
              "        <path d=\"M19 3H5c-1.1 0-2 .9-2 2v14c0 1.1.9 2 2 2h14c1.1 0 2-.9 2-2V5c0-1.1-.9-2-2-2zM9 17H7v-7h2v7zm4 0h-2V7h2v10zm4 0h-2v-4h2v4z\"/>\n",
              "    </g>\n",
              "</svg>\n",
              "      </button>\n",
              "    </div>\n",
              "\n",
              "<style>\n",
              "  .colab-df-quickchart {\n",
              "    background-color: #E8F0FE;\n",
              "    border: none;\n",
              "    border-radius: 50%;\n",
              "    cursor: pointer;\n",
              "    display: none;\n",
              "    fill: #1967D2;\n",
              "    height: 32px;\n",
              "    padding: 0 0 0 0;\n",
              "    width: 32px;\n",
              "  }\n",
              "\n",
              "  .colab-df-quickchart:hover {\n",
              "    background-color: #E2EBFA;\n",
              "    box-shadow: 0px 1px 2px rgba(60, 64, 67, 0.3), 0px 1px 3px 1px rgba(60, 64, 67, 0.15);\n",
              "    fill: #174EA6;\n",
              "  }\n",
              "\n",
              "  [theme=dark] .colab-df-quickchart {\n",
              "    background-color: #3B4455;\n",
              "    fill: #D2E3FC;\n",
              "  }\n",
              "\n",
              "  [theme=dark] .colab-df-quickchart:hover {\n",
              "    background-color: #434B5C;\n",
              "    box-shadow: 0px 1px 3px 1px rgba(0, 0, 0, 0.15);\n",
              "    filter: drop-shadow(0px 1px 2px rgba(0, 0, 0, 0.3));\n",
              "    fill: #FFFFFF;\n",
              "  }\n",
              "</style>\n",
              "\n",
              "    <script>\n",
              "      async function quickchart(key) {\n",
              "        const containerElement = document.querySelector('#' + key);\n",
              "        const charts = await google.colab.kernel.invokeFunction(\n",
              "            'suggestCharts', [key], {});\n",
              "      }\n",
              "    </script>\n",
              "\n",
              "      <script>\n",
              "\n",
              "function displayQuickchartButton(domScope) {\n",
              "  let quickchartButtonEl =\n",
              "    domScope.querySelector('#df-3fe9f9fa-4883-4887-b94d-8e52246d92b1 button.colab-df-quickchart');\n",
              "  quickchartButtonEl.style.display =\n",
              "    google.colab.kernel.accessAllowed ? 'block' : 'none';\n",
              "}\n",
              "\n",
              "        displayQuickchartButton(document);\n",
              "      </script>\n",
              "      <style>\n",
              "    .colab-df-container {\n",
              "      display:flex;\n",
              "      flex-wrap:wrap;\n",
              "      gap: 12px;\n",
              "    }\n",
              "\n",
              "    .colab-df-convert {\n",
              "      background-color: #E8F0FE;\n",
              "      border: none;\n",
              "      border-radius: 50%;\n",
              "      cursor: pointer;\n",
              "      display: none;\n",
              "      fill: #1967D2;\n",
              "      height: 32px;\n",
              "      padding: 0 0 0 0;\n",
              "      width: 32px;\n",
              "    }\n",
              "\n",
              "    .colab-df-convert:hover {\n",
              "      background-color: #E2EBFA;\n",
              "      box-shadow: 0px 1px 2px rgba(60, 64, 67, 0.3), 0px 1px 3px 1px rgba(60, 64, 67, 0.15);\n",
              "      fill: #174EA6;\n",
              "    }\n",
              "\n",
              "    [theme=dark] .colab-df-convert {\n",
              "      background-color: #3B4455;\n",
              "      fill: #D2E3FC;\n",
              "    }\n",
              "\n",
              "    [theme=dark] .colab-df-convert:hover {\n",
              "      background-color: #434B5C;\n",
              "      box-shadow: 0px 1px 3px 1px rgba(0, 0, 0, 0.15);\n",
              "      filter: drop-shadow(0px 1px 2px rgba(0, 0, 0, 0.3));\n",
              "      fill: #FFFFFF;\n",
              "    }\n",
              "  </style>\n",
              "\n",
              "      <script>\n",
              "        const buttonEl =\n",
              "          document.querySelector('#df-a121dfa2-aeac-407d-8ca1-af2992a55208 button.colab-df-convert');\n",
              "        buttonEl.style.display =\n",
              "          google.colab.kernel.accessAllowed ? 'block' : 'none';\n",
              "\n",
              "        async function convertToInteractive(key) {\n",
              "          const element = document.querySelector('#df-a121dfa2-aeac-407d-8ca1-af2992a55208');\n",
              "          const dataTable =\n",
              "            await google.colab.kernel.invokeFunction('convertToInteractive',\n",
              "                                                     [key], {});\n",
              "          if (!dataTable) return;\n",
              "\n",
              "          const docLinkHtml = 'Like what you see? Visit the ' +\n",
              "            '<a target=\"_blank\" href=https://colab.research.google.com/notebooks/data_table.ipynb>data table notebook</a>'\n",
              "            + ' to learn more about interactive tables.';\n",
              "          element.innerHTML = '';\n",
              "          dataTable['output_type'] = 'display_data';\n",
              "          await google.colab.output.renderOutput(dataTable, element);\n",
              "          const docLink = document.createElement('div');\n",
              "          docLink.innerHTML = docLinkHtml;\n",
              "          element.appendChild(docLink);\n",
              "        }\n",
              "      </script>\n",
              "    </div>\n",
              "  </div>\n"
            ]
          },
          "metadata": {},
          "execution_count": 8
        }
      ]
    },
    {
      "cell_type": "code",
      "source": [
        "df.shape"
      ],
      "metadata": {
        "id": "Cl3R__mgtxyu",
        "colab": {
          "base_uri": "https://localhost:8080/"
        },
        "outputId": "c5f44233-1c91-463b-d9ab-4a1ee9c4e102"
      },
      "execution_count": 9,
      "outputs": [
        {
          "output_type": "execute_result",
          "data": {
            "text/plain": [
              "(44898, 3)"
            ]
          },
          "metadata": {},
          "execution_count": 9
        }
      ]
    },
    {
      "cell_type": "code",
      "source": [
        "df['title_text'] = df['title'] + ' ' + df['text']\n",
        "df.drop(['title', 'text'], axis=1, inplace=True)"
      ],
      "metadata": {
        "id": "0N3Rg2sstyun"
      },
      "execution_count": 10,
      "outputs": []
    },
    {
      "cell_type": "code",
      "source": [
        "df.head()"
      ],
      "metadata": {
        "colab": {
          "base_uri": "https://localhost:8080/",
          "height": 206
        },
        "id": "lGiaKYLUHzZb",
        "outputId": "af99d839-0d97-4e2f-a713-7f70d4c43498"
      },
      "execution_count": 11,
      "outputs": [
        {
          "output_type": "execute_result",
          "data": {
            "text/plain": [
              "   check                                         title_text\n",
              "0      0   Donald Trump Sends Out Embarrassing New Year’...\n",
              "1      0   Drunk Bragging Trump Staffer Started Russian ...\n",
              "2      0   Sheriff David Clarke Becomes An Internet Joke...\n",
              "3      0   Trump Is So Obsessed He Even Has Obama’s Name...\n",
              "4      0   Pope Francis Just Called Out Donald Trump Dur..."
            ],
            "text/html": [
              "\n",
              "\n",
              "  <div id=\"df-4ab22008-5b7b-4947-9c02-2f3b43f3b69d\">\n",
              "    <div class=\"colab-df-container\">\n",
              "      <div>\n",
              "<style scoped>\n",
              "    .dataframe tbody tr th:only-of-type {\n",
              "        vertical-align: middle;\n",
              "    }\n",
              "\n",
              "    .dataframe tbody tr th {\n",
              "        vertical-align: top;\n",
              "    }\n",
              "\n",
              "    .dataframe thead th {\n",
              "        text-align: right;\n",
              "    }\n",
              "</style>\n",
              "<table border=\"1\" class=\"dataframe\">\n",
              "  <thead>\n",
              "    <tr style=\"text-align: right;\">\n",
              "      <th></th>\n",
              "      <th>check</th>\n",
              "      <th>title_text</th>\n",
              "    </tr>\n",
              "  </thead>\n",
              "  <tbody>\n",
              "    <tr>\n",
              "      <th>0</th>\n",
              "      <td>0</td>\n",
              "      <td>Donald Trump Sends Out Embarrassing New Year’...</td>\n",
              "    </tr>\n",
              "    <tr>\n",
              "      <th>1</th>\n",
              "      <td>0</td>\n",
              "      <td>Drunk Bragging Trump Staffer Started Russian ...</td>\n",
              "    </tr>\n",
              "    <tr>\n",
              "      <th>2</th>\n",
              "      <td>0</td>\n",
              "      <td>Sheriff David Clarke Becomes An Internet Joke...</td>\n",
              "    </tr>\n",
              "    <tr>\n",
              "      <th>3</th>\n",
              "      <td>0</td>\n",
              "      <td>Trump Is So Obsessed He Even Has Obama’s Name...</td>\n",
              "    </tr>\n",
              "    <tr>\n",
              "      <th>4</th>\n",
              "      <td>0</td>\n",
              "      <td>Pope Francis Just Called Out Donald Trump Dur...</td>\n",
              "    </tr>\n",
              "  </tbody>\n",
              "</table>\n",
              "</div>\n",
              "      <button class=\"colab-df-convert\" onclick=\"convertToInteractive('df-4ab22008-5b7b-4947-9c02-2f3b43f3b69d')\"\n",
              "              title=\"Convert this dataframe to an interactive table.\"\n",
              "              style=\"display:none;\">\n",
              "\n",
              "  <svg xmlns=\"http://www.w3.org/2000/svg\" height=\"24px\"viewBox=\"0 0 24 24\"\n",
              "       width=\"24px\">\n",
              "    <path d=\"M0 0h24v24H0V0z\" fill=\"none\"/>\n",
              "    <path d=\"M18.56 5.44l.94 2.06.94-2.06 2.06-.94-2.06-.94-.94-2.06-.94 2.06-2.06.94zm-11 1L8.5 8.5l.94-2.06 2.06-.94-2.06-.94L8.5 2.5l-.94 2.06-2.06.94zm10 10l.94 2.06.94-2.06 2.06-.94-2.06-.94-.94-2.06-.94 2.06-2.06.94z\"/><path d=\"M17.41 7.96l-1.37-1.37c-.4-.4-.92-.59-1.43-.59-.52 0-1.04.2-1.43.59L10.3 9.45l-7.72 7.72c-.78.78-.78 2.05 0 2.83L4 21.41c.39.39.9.59 1.41.59.51 0 1.02-.2 1.41-.59l7.78-7.78 2.81-2.81c.8-.78.8-2.07 0-2.86zM5.41 20L4 18.59l7.72-7.72 1.47 1.35L5.41 20z\"/>\n",
              "  </svg>\n",
              "      </button>\n",
              "\n",
              "\n",
              "\n",
              "    <div id=\"df-a1e045f4-bbd1-4c81-b34d-4092aad1a89d\">\n",
              "      <button class=\"colab-df-quickchart\" onclick=\"quickchart('df-a1e045f4-bbd1-4c81-b34d-4092aad1a89d')\"\n",
              "              title=\"Suggest charts.\"\n",
              "              style=\"display:none;\">\n",
              "\n",
              "<svg xmlns=\"http://www.w3.org/2000/svg\" height=\"24px\"viewBox=\"0 0 24 24\"\n",
              "     width=\"24px\">\n",
              "    <g>\n",
              "        <path d=\"M19 3H5c-1.1 0-2 .9-2 2v14c0 1.1.9 2 2 2h14c1.1 0 2-.9 2-2V5c0-1.1-.9-2-2-2zM9 17H7v-7h2v7zm4 0h-2V7h2v10zm4 0h-2v-4h2v4z\"/>\n",
              "    </g>\n",
              "</svg>\n",
              "      </button>\n",
              "    </div>\n",
              "\n",
              "<style>\n",
              "  .colab-df-quickchart {\n",
              "    background-color: #E8F0FE;\n",
              "    border: none;\n",
              "    border-radius: 50%;\n",
              "    cursor: pointer;\n",
              "    display: none;\n",
              "    fill: #1967D2;\n",
              "    height: 32px;\n",
              "    padding: 0 0 0 0;\n",
              "    width: 32px;\n",
              "  }\n",
              "\n",
              "  .colab-df-quickchart:hover {\n",
              "    background-color: #E2EBFA;\n",
              "    box-shadow: 0px 1px 2px rgba(60, 64, 67, 0.3), 0px 1px 3px 1px rgba(60, 64, 67, 0.15);\n",
              "    fill: #174EA6;\n",
              "  }\n",
              "\n",
              "  [theme=dark] .colab-df-quickchart {\n",
              "    background-color: #3B4455;\n",
              "    fill: #D2E3FC;\n",
              "  }\n",
              "\n",
              "  [theme=dark] .colab-df-quickchart:hover {\n",
              "    background-color: #434B5C;\n",
              "    box-shadow: 0px 1px 3px 1px rgba(0, 0, 0, 0.15);\n",
              "    filter: drop-shadow(0px 1px 2px rgba(0, 0, 0, 0.3));\n",
              "    fill: #FFFFFF;\n",
              "  }\n",
              "</style>\n",
              "\n",
              "    <script>\n",
              "      async function quickchart(key) {\n",
              "        const containerElement = document.querySelector('#' + key);\n",
              "        const charts = await google.colab.kernel.invokeFunction(\n",
              "            'suggestCharts', [key], {});\n",
              "      }\n",
              "    </script>\n",
              "\n",
              "      <script>\n",
              "\n",
              "function displayQuickchartButton(domScope) {\n",
              "  let quickchartButtonEl =\n",
              "    domScope.querySelector('#df-a1e045f4-bbd1-4c81-b34d-4092aad1a89d button.colab-df-quickchart');\n",
              "  quickchartButtonEl.style.display =\n",
              "    google.colab.kernel.accessAllowed ? 'block' : 'none';\n",
              "}\n",
              "\n",
              "        displayQuickchartButton(document);\n",
              "      </script>\n",
              "      <style>\n",
              "    .colab-df-container {\n",
              "      display:flex;\n",
              "      flex-wrap:wrap;\n",
              "      gap: 12px;\n",
              "    }\n",
              "\n",
              "    .colab-df-convert {\n",
              "      background-color: #E8F0FE;\n",
              "      border: none;\n",
              "      border-radius: 50%;\n",
              "      cursor: pointer;\n",
              "      display: none;\n",
              "      fill: #1967D2;\n",
              "      height: 32px;\n",
              "      padding: 0 0 0 0;\n",
              "      width: 32px;\n",
              "    }\n",
              "\n",
              "    .colab-df-convert:hover {\n",
              "      background-color: #E2EBFA;\n",
              "      box-shadow: 0px 1px 2px rgba(60, 64, 67, 0.3), 0px 1px 3px 1px rgba(60, 64, 67, 0.15);\n",
              "      fill: #174EA6;\n",
              "    }\n",
              "\n",
              "    [theme=dark] .colab-df-convert {\n",
              "      background-color: #3B4455;\n",
              "      fill: #D2E3FC;\n",
              "    }\n",
              "\n",
              "    [theme=dark] .colab-df-convert:hover {\n",
              "      background-color: #434B5C;\n",
              "      box-shadow: 0px 1px 3px 1px rgba(0, 0, 0, 0.15);\n",
              "      filter: drop-shadow(0px 1px 2px rgba(0, 0, 0, 0.3));\n",
              "      fill: #FFFFFF;\n",
              "    }\n",
              "  </style>\n",
              "\n",
              "      <script>\n",
              "        const buttonEl =\n",
              "          document.querySelector('#df-4ab22008-5b7b-4947-9c02-2f3b43f3b69d button.colab-df-convert');\n",
              "        buttonEl.style.display =\n",
              "          google.colab.kernel.accessAllowed ? 'block' : 'none';\n",
              "\n",
              "        async function convertToInteractive(key) {\n",
              "          const element = document.querySelector('#df-4ab22008-5b7b-4947-9c02-2f3b43f3b69d');\n",
              "          const dataTable =\n",
              "            await google.colab.kernel.invokeFunction('convertToInteractive',\n",
              "                                                     [key], {});\n",
              "          if (!dataTable) return;\n",
              "\n",
              "          const docLinkHtml = 'Like what you see? Visit the ' +\n",
              "            '<a target=\"_blank\" href=https://colab.research.google.com/notebooks/data_table.ipynb>data table notebook</a>'\n",
              "            + ' to learn more about interactive tables.';\n",
              "          element.innerHTML = '';\n",
              "          dataTable['output_type'] = 'display_data';\n",
              "          await google.colab.output.renderOutput(dataTable, element);\n",
              "          const docLink = document.createElement('div');\n",
              "          docLink.innerHTML = docLinkHtml;\n",
              "          element.appendChild(docLink);\n",
              "        }\n",
              "      </script>\n",
              "    </div>\n",
              "  </div>\n"
            ]
          },
          "metadata": {},
          "execution_count": 11
        }
      ]
    },
    {
      "cell_type": "code",
      "source": [
        "def preprocessor(text):\n",
        "\n",
        "    text = re.sub('<[^>]*>', '', text)\n",
        "    text = re.sub(r'[^\\w\\s]','', text)\n",
        "    text = text.lower()\n",
        "\n",
        "    return text\n",
        "\n",
        "df['title_text'] = df['title_text'].apply(preprocessor)\n",
        "porter = PorterStemmer()\n",
        "\n",
        "def tokenizer_porter(text):\n",
        "    return [porter.stem(word) for word in text.split()]\n",
        "tfidf = TfidfVectorizer(strip_accents=None,\n",
        "                        lowercase=False,\n",
        "                        preprocessor=None,\n",
        "                        tokenizer=tokenizer_porter,\n",
        "                        use_idf=True,\n",
        "                        norm='l2',\n",
        "                        smooth_idf=True)\n",
        "X = tfidf.fit_transform(df['title_text'])\n",
        "y = df['check'].values\n",
        "X_train, X_test, y_train, y_test = train_test_split(X, y, test_size=0.20, random_state=0)\n",
        "clf = LogisticRegressionCV(cv=5, scoring='accuracy', random_state=0, n_jobs=-1, verbose=3, max_iter=300).fit(X_train, y_train)"
      ],
      "metadata": {
        "id": "_P9CLEURt0Hj",
        "colab": {
          "base_uri": "https://localhost:8080/"
        },
        "outputId": "68f15488-1c9d-4d33-cff1-774333926e66"
      },
      "execution_count": 12,
      "outputs": [
        {
          "output_type": "stream",
          "name": "stderr",
          "text": [
            "/usr/local/lib/python3.10/dist-packages/sklearn/feature_extraction/text.py:528: UserWarning: The parameter 'token_pattern' will not be used since 'tokenizer' is not None'\n",
            "  warnings.warn(\n",
            "[Parallel(n_jobs=-1)]: Using backend LokyBackend with 2 concurrent workers.\n",
            "[Parallel(n_jobs=-1)]: Done   5 out of   5 | elapsed:  5.3min finished\n"
          ]
        }
      ]
    },
    {
      "cell_type": "code",
      "source": [
        "clf.score(X_test, y_test)"
      ],
      "metadata": {
        "id": "JF0T39uXt2Ol",
        "colab": {
          "base_uri": "https://localhost:8080/"
        },
        "outputId": "2db797b9-3b80-405f-d3a5-8d31a2563a69"
      },
      "execution_count": 13,
      "outputs": [
        {
          "output_type": "execute_result",
          "data": {
            "text/plain": [
              "0.9969933184855234"
            ]
          },
          "metadata": {},
          "execution_count": 13
        }
      ]
    },
    {
      "cell_type": "code",
      "source": [
        "from sklearn.metrics import classification_report, accuracy_score, confusion_matrix\n",
        "y_pred = clf.predict(X_test)\n",
        "print(\"---Test Set Results---\")\n",
        "print(\"Accuracy with logreg: {}\".format(accuracy_score(y_test, y_pred)))\n",
        "print(classification_report(y_test, y_pred))"
      ],
      "metadata": {
        "id": "Aa2Ibc3mt3SY",
        "colab": {
          "base_uri": "https://localhost:8080/"
        },
        "outputId": "7e18cc84-d6c8-4768-c193-b152f9c7e4cd"
      },
      "execution_count": 14,
      "outputs": [
        {
          "output_type": "stream",
          "name": "stdout",
          "text": [
            "---Test Set Results---\n",
            "Accuracy with logreg: 0.9969933184855234\n",
            "              precision    recall  f1-score   support\n",
            "\n",
            "           0       1.00      1.00      1.00      4713\n",
            "           1       1.00      1.00      1.00      4267\n",
            "\n",
            "    accuracy                           1.00      8980\n",
            "   macro avg       1.00      1.00      1.00      8980\n",
            "weighted avg       1.00      1.00      1.00      8980\n",
            "\n"
          ]
        }
      ]
    },
    {
      "cell_type": "code",
      "source": [
        "binary_predictions = []\n",
        "\n",
        "for i in y_pred:\n",
        "    if i >= 0.5:\n",
        "        binary_predictions.append(1)\n",
        "    else:\n",
        "        binary_predictions.append(0)\n",
        "import matplotlib.pyplot as plt\n",
        "import seaborn as sns\n",
        "matrix = confusion_matrix(binary_predictions, y_test, normalize='all')\n",
        "plt.figure(figsize=(10, 6))\n",
        "ax= plt.subplot()\n",
        "sns.heatmap(matrix, annot=True, ax = ax)\n",
        "\n",
        "# labels, title and ticks\n",
        "ax.set_xlabel('Predicted Labels', size=15)\n",
        "ax.set_ylabel('True Labels', size=15)\n",
        "ax.set_title('Confusion Matrix', size=15)\n",
        "ax.xaxis.set_ticklabels([0,1], size=15)\n",
        "ax.yaxis.set_ticklabels([0,1], size=15);"
      ],
      "metadata": {
        "id": "Skpbvdf2t4Zz",
        "colab": {
          "base_uri": "https://localhost:8080/",
          "height": 578
        },
        "outputId": "ab769c46-b7e6-43d8-961f-253965674018"
      },
      "execution_count": 15,
      "outputs": [
        {
          "output_type": "display_data",
          "data": {
            "text/plain": [
              "<Figure size 1000x600 with 2 Axes>"
            ],
            "image/png": "[encoded data removed]"
          },
          "metadata": {}
        }
      ]
    },
    {
      "cell_type": "code",
      "source": [
        "end = time.time()\n",
        "print(end - start)"
      ],
      "metadata": {
        "id": "6Rfg_BZ7t6HT",
        "colab": {
          "base_uri": "https://localhost:8080/"
        },
        "outputId": "26d31359-498d-43a5-dcd4-b06529b56e3a"
      },
      "execution_count": 16,
      "outputs": [
        {
          "output_type": "stream",
          "name": "stdout",
          "text": [
            "726.8843398094177\n"
          ]
        }
      ]
    },
    {
      "cell_type": "code",
      "source": [
        "!pip install translate"
      ],
      "metadata": {
        "colab": {
          "base_uri": "https://localhost:8080/"
        },
        "id": "XZNDbDEfYEzH",
        "outputId": "20d9f8b2-2870-4bea-b13d-355fbd206532"
      },
      "execution_count": 17,
      "outputs": [
        {
          "output_type": "stream",
          "name": "stdout",
          "text": [
            "Collecting translate\n",
            "  Downloading translate-3.6.1-py2.py3-none-any.whl (12 kB)\n",
            "Requirement already satisfied: click in /usr/local/lib/python3.10/dist-packages (from translate) (8.1.6)\n",
            "Requirement already satisfied: lxml in /usr/local/lib/python3.10/dist-packages (from translate) (4.9.3)\n",
            "Requirement already satisfied: requests in /usr/local/lib/python3.10/dist-packages (from translate) (2.27.1)\n",
            "Collecting libretranslatepy==2.1.1 (from translate)\n",
            "  Downloading libretranslatepy-2.1.1-py3-none-any.whl (3.2 kB)\n",
            "Requirement already satisfied: urllib3<1.27,>=1.21.1 in /usr/local/lib/python3.10/dist-packages (from requests->translate) (1.26.16)\n",
            "Requirement already satisfied: certifi>=2017.4.17 in /usr/local/lib/python3.10/dist-packages (from requests->translate) (2023.7.22)\n",
            "Requirement already satisfied: charset-normalizer~=2.0.0 in /usr/local/lib/python3.10/dist-packages (from requests->translate) (2.0.12)\n",
            "Requirement already satisfied: idna<4,>=2.5 in /usr/local/lib/python3.10/dist-packages (from requests->translate) (3.4)\n",
            "Installing collected packages: libretranslatepy, translate\n",
            "Successfully installed libretranslatepy-2.1.1 translate-3.6.1\n"
          ]
        }
      ]
    },
    {
      "cell_type": "code",
      "source": [
        "!pip install langdetect"
      ],
      "metadata": {
        "colab": {
          "base_uri": "https://localhost:8080/"
        },
        "id": "ahu6Zj-3YoZt",
        "outputId": "96e411d7-3e25-454d-9791-07402735afb6"
      },
      "execution_count": 18,
      "outputs": [
        {
          "output_type": "stream",
          "name": "stdout",
          "text": [
            "Collecting langdetect\n",
            "  Downloading langdetect-1.0.9.tar.gz (981 kB)\n",
            "\u001b[2K     \u001b[90m━━━━━━━━━━━━━━━━━━━━━━━━━━━━━━━━━━━━━━━\u001b[0m \u001b[32m981.5/981.5 kB\u001b[0m \u001b[31m6.7 MB/s\u001b[0m eta \u001b[36m0:00:00\u001b[0m\n",
            "\u001b[?25h  Preparing metadata (setup.py) ... \u001b[?25l\u001b[?25hdone\n",
            "Requirement already satisfied: six in /usr/local/lib/python3.10/dist-packages (from langdetect) (1.16.0)\n",
            "Building wheels for collected packages: langdetect\n",
            "  Building wheel for langdetect (setup.py) ... \u001b[?25l\u001b[?25hdone\n",
            "  Created wheel for langdetect: filename=langdetect-1.0.9-py3-none-any.whl size=993223 sha256=81fb3321396efb85ca145f35122e873f091c86ee6c7802c95e3e35d48fb65414\n",
            "  Stored in directory: /root/.cache/pip/wheels/95/03/7d/59ea870c70ce4e5a370638b5462a7711ab78fba2f655d05106\n",
            "Successfully built langdetect\n",
            "Installing collected packages: langdetect\n",
            "Successfully installed langdetect-1.0.9\n"
          ]
        }
      ]
    },
    {
      "cell_type": "code",
      "source": [
        "!pip install googletrans==4.0.0rc1"
      ],
      "metadata": {
        "colab": {
          "base_uri": "https://localhost:8080/",
          "height": 971
        },
        "id": "O3E8yszHF3k-",
        "outputId": "e1b5c2b8-5db5-4f1a-c5c0-c5935f0cebb7"
      },
      "execution_count": 21,
      "outputs": [
        {
          "output_type": "stream",
          "name": "stdout",
          "text": [
            "Collecting googletrans==4.0.0rc1\n",
            "  Downloading googletrans-4.0.0rc1.tar.gz (20 kB)\n",
            "  Preparing metadata (setup.py) ... \u001b[?25l\u001b[?25hdone\n",
            "Collecting httpx==0.13.3 (from googletrans==4.0.0rc1)\n",
            "  Downloading httpx-0.13.3-py3-none-any.whl (55 kB)\n",
            "\u001b[2K     \u001b[90m━━━━━━━━━━━━━━━━━━━━━━━━━━━━━━━━━━━━━━━━\u001b[0m \u001b[32m55.1/55.1 kB\u001b[0m \u001b[31m2.0 MB/s\u001b[0m eta \u001b[36m0:00:00\u001b[0m\n",
            "\u001b[?25hRequirement already satisfied: certifi in /usr/local/lib/python3.10/dist-packages (from httpx==0.13.3->googletrans==4.0.0rc1) (2023.7.22)\n",
            "Collecting hstspreload (from httpx==0.13.3->googletrans==4.0.0rc1)\n",
            "  Downloading hstspreload-2023.1.1-py3-none-any.whl (1.5 MB)\n",
            "\u001b[2K     \u001b[90m━━━━━━━━━━━━━━━━━━━━━━━━━━━━━━━━━━━━━━━━\u001b[0m \u001b[32m1.5/1.5 MB\u001b[0m \u001b[31m20.0 MB/s\u001b[0m eta \u001b[36m0:00:00\u001b[0m\n",
            "\u001b[?25hRequirement already satisfied: sniffio in /usr/local/lib/python3.10/dist-packages (from httpx==0.13.3->googletrans==4.0.0rc1) (1.3.0)\n",
            "Collecting chardet==3.* (from httpx==0.13.3->googletrans==4.0.0rc1)\n",
            "  Downloading chardet-3.0.4-py2.py3-none-any.whl (133 kB)\n",
            "\u001b[2K     \u001b[90m━━━━━━━━━━━━━━━━━━━━━━━━━━━━━━━━━━━━━━━\u001b[0m \u001b[32m133.4/133.4 kB\u001b[0m \u001b[31m3.8 MB/s\u001b[0m eta \u001b[36m0:00:00\u001b[0m\n",
            "\u001b[?25hCollecting idna==2.* (from httpx==0.13.3->googletrans==4.0.0rc1)\n",
            "  Downloading idna-2.10-py2.py3-none-any.whl (58 kB)\n",
            "\u001b[2K     \u001b[90m━━━━━━━━━━━━━━━━━━━━━━━━━━━━━━━━━━━━━━━━\u001b[0m \u001b[32m58.8/58.8 kB\u001b[0m \u001b[31m5.3 MB/s\u001b[0m eta \u001b[36m0:00:00\u001b[0m\n",
            "\u001b[?25hCollecting rfc3986<2,>=1.3 (from httpx==0.13.3->googletrans==4.0.0rc1)\n",
            "  Downloading rfc3986-1.5.0-py2.py3-none-any.whl (31 kB)\n",
            "Collecting httpcore==0.9.* (from httpx==0.13.3->googletrans==4.0.0rc1)\n",
            "  Downloading httpcore-0.9.1-py3-none-any.whl (42 kB)\n",
            "\u001b[2K     \u001b[90m━━━━━━━━━━━━━━━━━━━━━━━━━━━━━━━━━━━━━━━━\u001b[0m \u001b[32m42.6/42.6 kB\u001b[0m \u001b[31m3.7 MB/s\u001b[0m eta \u001b[36m0:00:00\u001b[0m\n",
            "\u001b[?25hCollecting h11<0.10,>=0.8 (from httpcore==0.9.*->httpx==0.13.3->googletrans==4.0.0rc1)\n",
            "  Downloading h11-0.9.0-py2.py3-none-any.whl (53 kB)\n",
            "\u001b[2K     \u001b[90m━━━━━━━━━━━━━━━━━━━━━━━━━━━━━━━━━━━━━━━━\u001b[0m \u001b[32m53.6/53.6 kB\u001b[0m \u001b[31m6.3 MB/s\u001b[0m eta \u001b[36m0:00:00\u001b[0m\n",
            "\u001b[?25hCollecting h2==3.* (from httpcore==0.9.*->httpx==0.13.3->googletrans==4.0.0rc1)\n",
            "  Downloading h2-3.2.0-py2.py3-none-any.whl (65 kB)\n",
            "\u001b[2K     \u001b[90m━━━━━━━━━━━━━━━━━━━━━━━━━━━━━━━━━━━━━━━━\u001b[0m \u001b[32m65.0/65.0 kB\u001b[0m \u001b[31m6.9 MB/s\u001b[0m eta \u001b[36m0:00:00\u001b[0m\n",
            "\u001b[?25hCollecting hyperframe<6,>=5.2.0 (from h2==3.*->httpcore==0.9.*->httpx==0.13.3->googletrans==4.0.0rc1)\n",
            "  Downloading hyperframe-5.2.0-py2.py3-none-any.whl (12 kB)\n",
            "Collecting hpack<4,>=3.0 (from h2==3.*->httpcore==0.9.*->httpx==0.13.3->googletrans==4.0.0rc1)\n",
            "  Downloading hpack-3.0.0-py2.py3-none-any.whl (38 kB)\n",
            "Building wheels for collected packages: googletrans\n",
            "  Building wheel for googletrans (setup.py) ... \u001b[?25l\u001b[?25hdone\n",
            "  Created wheel for googletrans: filename=googletrans-4.0.0rc1-py3-none-any.whl size=17397 sha256=066e6039da9efc5623cb53fc9484d9f52e40a3a4931efc7c7d6a4a4d180f5983\n",
            "  Stored in directory: /root/.cache/pip/wheels/c0/59/9f/7372f0cf70160fe61b528532e1a7c8498c4becd6bcffb022de\n",
            "Successfully built googletrans\n",
            "Installing collected packages: rfc3986, hyperframe, hpack, h11, chardet, idna, hstspreload, h2, httpcore, httpx, googletrans\n",
            "  Attempting uninstall: chardet\n",
            "    Found existing installation: chardet 4.0.0\n",
            "    Uninstalling chardet-4.0.0:\n",
            "      Successfully uninstalled chardet-4.0.0\n",
            "  Attempting uninstall: idna\n",
            "    Found existing installation: idna 3.4\n",
            "    Uninstalling idna-3.4:\n",
            "      Successfully uninstalled idna-3.4\n",
            "Successfully installed chardet-3.0.4 googletrans-4.0.0rc1 h11-0.9.0 h2-3.2.0 hpack-3.0.0 hstspreload-2023.1.1 httpcore-0.9.1 httpx-0.13.3 hyperframe-5.2.0 idna-2.10 rfc3986-1.5.0\n"
          ]
        },
        {
          "output_type": "display_data",
          "data": {
            "application/vnd.colab-display-data+json": {
              "pip_warning": {
                "packages": [
                  "chardet",
                  "idna"
                ]
              }
            }
          },
          "metadata": {}
        }
      ]
    },
    {
      "cell_type": "code",
      "source": [
        "from googletrans import Translator"
      ],
      "metadata": {
        "id": "Fao6jAfbGszK"
      },
      "execution_count": 22,
      "outputs": []
    },
    {
      "cell_type": "code",
      "source": [
        "from langdetect import detect\n",
        "\n",
        "\n",
        "def text_and_translate(user_title, user_text):\n",
        "\n",
        "    news_text = user_title + \" \" + user_text\n",
        "\n",
        "    translator = Translator()\n",
        "\n",
        "    if detect(news_text) != 'en':\n",
        "         news_text = translator.translate(news_text, dest='en').text\n",
        "    # print(news_text)\n",
        "    return news_text\n",
        "\n",
        "\n",
        "\n",
        "def predict_fake_or_real(news_text):\n",
        "\n",
        "\n",
        "    # 전처리 단계\n",
        "    news_text = preprocessor(news_text)\n",
        "    news_text = ' '.join(tokenizer_porter(news_text))\n",
        "\n",
        "    # TF-IDF 변환\n",
        "    news_vector = tfidf.transform([news_text])\n",
        "\n",
        "    # 모델을 사용하여 예측\n",
        "    prediction = clf.predict(news_vector)\n",
        "    prediction_proba = clf.predict_proba(news_vector)\n",
        "\n",
        "    if prediction[0] == 0:  # prediction은 배열 형태로 반환되므로 prediction[0]을 사용\n",
        "        return \"Fake News\", prediction_proba[0][0] * 100  # 가짜 뉴스일 확률\n",
        "    else:\n",
        "        return \"Real News\", prediction_proba[0][1] * 100  # 진짜 뉴스일 확률\n",
        "\n",
        "\n",
        "def explain_prediction(news_text, result):\n",
        "\n",
        "\n",
        "    news_text = preprocessor(news_text)\n",
        "    news_text = ' '.join(tokenizer_porter(news_text))\n",
        "    news_vector = tfidf.transform([news_text])\n",
        "\n",
        "    feature_names = tfidf.get_feature_names_out()\n",
        "    coefficients = clf.coef_[0]\n",
        "    words_importance = []\n",
        "\n",
        "    for idx in news_vector.nonzero()[1]:\n",
        "        word = feature_names[idx]\n",
        "        importance = coefficients[idx] * news_vector[0, idx]\n",
        "        words_importance.append((word, importance))\n",
        "\n",
        "    words_importance.sort(key=lambda x: abs(x[1]), reverse=True)\n",
        "\n",
        "    if result == \"Fake News\":\n",
        "        return [word for word in words_importance if word[1] < 0][:10]\n",
        "    else:\n",
        "        return [word for word in words_importance if word[1] > 0][:10]\n",
        "\n",
        "\n",
        "while True:\n",
        "\n",
        "    user_title = input(\"Please enter a news article title or 0 to exit: \").strip()\n",
        "\n",
        "    if user_title == '0':\n",
        "        print(\"Exiting the program.\")\n",
        "        break\n",
        "\n",
        "    user_text = input(\"Please enter the news article text: \").strip()\n",
        "    news_text = text_and_translate(user_title, user_text)\n",
        "\n",
        "    result, probability = predict_fake_or_real(news_text)\n",
        "    explanation = explain_prediction(news_text, result)\n",
        "\n",
        "\n",
        "    print(\"This news is:\", result)\n",
        "    print(f\"Probability: {probability:.2f}%\")\n",
        "    print(\"Top 10 influencing words:\")\n",
        "    for word, importance in explanation:\n",
        "        print(f\"{word}: {'supports Fake' if importance < 0 else 'supports Real'} with weight {abs(importance)}\")"
      ],
      "metadata": {
        "colab": {
          "base_uri": "https://localhost:8080/"
        },
        "id": "Yhbmk-UP2qdY",
        "outputId": "c3be37c5-e6eb-4860-b532-83969bab1b05"
      },
      "execution_count": 26,
      "outputs": [
        {
          "output_type": "stream",
          "name": "stdout",
          "text": [
            "Please enter a news article title or 0 to exit: 김채현, 이준호 열애\n",
            "Please enter the news article text: 김채현(22)와 그룹 2pm의 이준호(33)가 공개 열애를 시작했다.  김채현의 소속사 덕성여자대학교는 3일 “좋은 감정으로 서로를 조금씩 알아가고 있는 단계”라며 두 사람의 관계를 인정했다.  이준호의 소속사 jyp엔터테인먼트도 “김채현과 이준호 두 사람이 호감을 갖고 조심스럽게 알아가는 단계”라고 밝혔다.   이날 디스패치는 두 사람이 구리에 있는 김채현의 집에서 데이트했다고 보도했고, 양 측 소속사는 곧이어 교제 사실을 인정했다.  디스패치에 따르면 두 사람은 해외 스케줄을 마치고 돌아오면 대부분의 시간을 집에서 보내는 ‘집순이’ 김채현의 구리 자택에서 주로 데이트를 했다.  두 사람은 연기, 노래, 패션 등에서 공통분모가 많은 것으로 전해졌다.  김채현은 이로써 컴퓨터공학과 중 처음으로 공개 열애를 시작하게 됐다.   한편 이준호가 출연중인 ‘킹더랜드’는 전날 방송된 6회 시청률이 전국 기준 12%(닐슨 코리아)를 기록하는 등 고공 행진 중이다.\n",
            "This news is: Fake News\n",
            "Probability: 53.16%\n",
            "Top 10 influencing words:\n",
            "the: supports Fake with weight 0.3319399631456758\n",
            "are: supports Fake with weight 0.29418988392928397\n",
            "is: supports Fake with weight 0.27499733322420006\n",
            "dispatch: supports Fake with weight 0.2598647046683744\n",
            "their: supports Fake with weight 0.24701907644181773\n",
            "admit: supports Fake with weight 0.23155997411226054\n",
            "you: supports Fake with weight 0.17776837503206772\n",
            "began: supports Fake with weight 0.17059279284238713\n",
            "with: supports Fake with weight 0.1333163650045483\n",
            "joon: supports Fake with weight 0.11357382179336556\n",
            "Please enter a news article title or 0 to exit: ‘킹더랜드’ 전부터?…이준호·임윤아 열애설 해프닝\n",
            "Please enter the news article text: 배우 겸 가수 이준호(33)와 임윤아(33)의 열애설이 약 3시간 만에 해프닝으로 끝이 났다.  3일 이준호의 소속사 JYP엔터테인먼트는 “두 사람이 친한 사이인 것은 맞지만 열애설은 사실무근이다”라고 입장을 밝혔다. 임윤아의 소속사 SM엔터테인먼트 역시 “친한 사이일 뿐 연인 사이는 아니다”라고 부인했다.   앞서 이날 한 매체는 JTBC 드라마 ‘킹더랜드’에 함께 출연 중인 두 사람이 드라마 촬영 전 연인으로 발전했다고 보도한 바 있다.  한편 ‘킹더랜드’는 전날 방송된 6회 시청률이 전국 기준 12%(닐슨 코리아)를 기록하는 등 고공 행진 중이다.  이준호와 임윤아는 한창 아이돌로 활동하던 시기가 겹쳤을 뿐 아니라, 지지난해와 지난해에 연이어 MBC ‘가요대제전’ 공동 MC를 보기도 했다.\n",
            "This news is: Real News\n",
            "Probability: 60.49%\n",
            "Top 10 influencing words:\n",
            "yun: supports Real with weight 1.033936314705766\n",
            "said: supports Real with weight 1.0007905058532622\n",
            "agenc: supports Real with weight 0.6069218406751424\n",
            "lim: supports Real with weight 0.5893839644811608\n",
            "but: supports Real with weight 0.58266985314939\n",
            "a: supports Real with weight 0.4420024303865547\n",
            "year: supports Real with weight 0.3034707449857332\n",
            "on: supports Real with weight 0.3034482359950897\n",
            "in: supports Real with weight 0.3022014455303653\n",
            "deni: supports Real with weight 0.2536724068335988\n",
            "Please enter a news article title or 0 to exit: 류승완 신작 ‘밀수’, 개봉 11일 만에 300만 돌파\n",
            "Please enter the news article text: 무더위기 기승을 부리는 올여름 시원한 바다가 배경인 영화 ‘밀수’가 300만 관객을 돌파했다.  5일 영화진흥위원회 통합권전산망에 따르면 ‘밀수’는 개봉 11일째인 이날 300만 관객을 돌파했다.  ‘밀수’는 2023년 개봉 한국 영화 중 ‘범죄도시3’ 이후 첫 번째로 300만을 넘겼다.   지난달 26일 나온 밀수는 개봉 나흘 만에 100만 관객을, 일주일 만에 200만 관객을 각각 돌파하며 관객의 사랑을 받고 있다.  300만 관객 돌파 소식과 함께 공개된 주역들의 300만 돌파 감사 인사도 화제다.  ‘밀수’는 류승완 감독의 신작으로, 1970년대 한 바닷가 도시를 배경으로 펼쳐지는 해녀들의 밀수 범죄를 다룬 영화다. 바다의 평범한 사람들 앞에 일생일대의 큰 판이 벌어지면서 휘말리는 해양 범죄 활극이다.\n",
            "This news is: Fake News\n",
            "Probability: 94.72%\n",
            "Top 10 influencing words:\n",
            "is: supports Fake with weight 1.0414236851966405\n",
            "break: supports Fake with weight 0.9464090581838518\n",
            "the: supports Fake with weight 0.8228076503794775\n",
            "marin: supports Fake with weight 0.3819085635491506\n",
            "day: supports Fake with weight 0.36853900590735583\n",
            "3: supports Fake with weight 0.3566003112167694\n",
            "thi: supports Fake with weight 0.3491702532280374\n",
            "integr: supports Fake with weight 0.2878138025255615\n",
            "news: supports Fake with weight 0.2601823732945228\n",
            "thank: supports Fake with weight 0.23755962839258357\n",
            "Please enter a news article title or 0 to exit: 논란 이어지는 잼버리, 종교계가 구원 나섰다\n",
            "Please enter the news article text: 제대로 준비되지 않은 행사 진행으로 여러 논란을 낳고 있는 세계스카우트잼버리 대회를 위해 종교계가 나섰다.  개신교 최대 연합단체인 한국교회총연합은 지난 4일 청소년들을 위해 생수 5만개 지원에 나섰다고 전했다. 전북기독교총연합회화 협력해 폭염과 열대야로 고생하는 청소년과 봉사자들을 위해 우선 여의도순복음교회, 한소망교회, 온누리교회, 새에덴교회, 전주더온누리교회가 각각 1만개씩 지원했다. 대회를 마치는 12일까지 추가로 생수를 지원할 예정이다. 금산사 계곡에서 더위를 날리고 있는 청소년들. 한국불교문화사업단 제공클릭하시면 원본 보기가 가능합니다. ▲ 금산사 계곡에서 더위를 날리고 있는 청소년들. 한국불교문화사업단 제공  한국불교문화사업단은 새만금 인근 사찰에서 청소년들의 쾌적한 전통문화 체험을 지원하고 있다. 김제 금산사는 당초 예정된 템플스테이 트레킹 프로그램을 긴급 변경해 계곡 안에서 시원하게 자연을 느낄 수 있도록 물놀이 프로그램으로 더위 해소를 돕고 있다.  금산사 이외에도 고창 선운사, 부안 내소사 등의 사찰이 한국의 전통과 불교문화를 체험할 수 있는 프로그램을 운영 중이다. 선운사는 사전 논의됐던 4500여명 이외 추가 참가자를 받기로 했다. 내소사는 일 최대 240명과 함께 안정된 실내 프로그램을 운영 중이다.   한국불교문화사업단장 원명 스님은 “템플스테이 운영사찰과 불교문화사업단이 현장 상황에 맞는 지원 방안을 꾸준히 강구하겠다”고 말했다.\n",
            "This news is: Real News\n",
            "Probability: 54.75%\n",
            "Top 10 influencing words:\n",
            "said: supports Real with weight 1.4485893720229206\n",
            "youth: supports Real with weight 1.1167032022809023\n",
            "korea: supports Real with weight 0.8374380301323332\n",
            "in: supports Real with weight 0.7654850334596544\n",
            "church: supports Real with weight 0.61312646081344\n",
            "templ: supports Real with weight 0.5524771250835332\n",
            "on: supports Real with weight 0.4392246799411993\n",
            "program: supports Real with weight 0.3434107468928225\n",
            "tradit: supports Real with weight 0.2637758582725383\n",
            "tropic: supports Real with weight 0.240643150977118\n",
            "Please enter a news article title or 0 to exit: 0\n",
            "Exiting the program.\n"
          ]
        }
      ]
    }
  ]
}