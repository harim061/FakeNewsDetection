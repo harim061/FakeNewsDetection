{
  "cells": [
    {
      "cell_type": "markdown",
      "metadata": {
        "id": "view-in-github",
        "colab_type": "text"
      },
      "source": [
        "<a href=\"https://colab.research.google.com/github/harim061/FakeNewsDetection/blob/main/FINAL/FakeNewsDetectionModel.ipynb\" target=\"_parent\"><img src=\"https://colab.research.google.com/assets/colab-badge.svg\" alt=\"Open In Colab\"/></a>"
      ]
    },
    {
      "cell_type": "code",
      "execution_count": null,
      "metadata": {
        "id": "iL0xS6AxgrHw"
      },
      "outputs": [],
      "source": [
        "import pandas as pd\n",
        "import re\n",
        "from nltk.stem.porter import PorterStemmer\n",
        "from sklearn.feature_extraction.text import TfidfVectorizer\n",
        "from sklearn.model_selection import train_test_split\n",
        "import pickle\n",
        "from sklearn.linear_model import LogisticRegressionCV"
      ]
    },
    {
      "cell_type": "code",
      "execution_count": null,
      "metadata": {
        "colab": {
          "base_uri": "https://localhost:8080/"
        },
        "id": "1liiRdk3EcHt",
        "outputId": "c68b211f-30c7-4bea-c6f9-27c809c639ac"
      },
      "outputs": [
        {
          "output_type": "stream",
          "name": "stdout",
          "text": [
            "Mounted at /content/drive\n"
          ]
        }
      ],
      "source": [
        "from google.colab import drive\n",
        "drive.mount('/content/drive')"
      ]
    },
    {
      "cell_type": "code",
      "execution_count": null,
      "metadata": {
        "id": "MPrrn5krsrg8"
      },
      "outputs": [],
      "source": [
        "import time\n",
        "start = time.time()"
      ]
    },
    {
      "cell_type": "code",
      "execution_count": null,
      "metadata": {
        "id": "UKUnOVJCE6UO"
      },
      "outputs": [],
      "source": [
        "path = '/content/drive/MyDrive/fakeData/'"
      ]
    },
    {
      "cell_type": "code",
      "execution_count": null,
      "metadata": {
        "id": "cAKB1M6Sss1B"
      },
      "outputs": [],
      "source": [
        "fake_df = pd.read_csv(path +'Fake.csv')\n",
        "real_df = pd.read_csv(path +'True.csv')"
      ]
    },
    {
      "cell_type": "code",
      "execution_count": null,
      "metadata": {
        "id": "3CAGcFBH1Xzh"
      },
      "outputs": [],
      "source": [
        "fake_df = fake_df[['title', 'text']]\n",
        "real_df = real_df[['title', 'text']]"
      ]
    },
    {
      "cell_type": "code",
      "execution_count": null,
      "metadata": {
        "colab": {
          "base_uri": "https://localhost:8080/"
        },
        "id": "0wxv5lAetsUK",
        "outputId": "5d042317-c2cd-4b59-9b92-18dbe958c01c"
      },
      "outputs": [
        {
          "output_type": "stream",
          "name": "stderr",
          "text": [
            "<ipython-input-7-d8a84075019a>:1: SettingWithCopyWarning: \n",
            "A value is trying to be set on a copy of a slice from a DataFrame.\n",
            "Try using .loc[row_indexer,col_indexer] = value instead\n",
            "\n",
            "See the caveats in the documentation: https://pandas.pydata.org/pandas-docs/stable/user_guide/indexing.html#returning-a-view-versus-a-copy\n",
            "  fake_df['check'] = 0\n"
          ]
        }
      ],
      "source": [
        "fake_df['check'] = 0\n",
        "real_df['check'] = 1\n",
        "df = pd.concat([fake_df, real_df], ignore_index=True, sort=False)"
      ]
    },
    {
      "cell_type": "code",
      "execution_count": null,
      "metadata": {
        "id": "MHy4gopktwfu"
      },
      "outputs": [],
      "source": [
        "df.head()"
      ]
    },
    {
      "cell_type": "code",
      "execution_count": null,
      "metadata": {
        "colab": {
          "base_uri": "https://localhost:8080/"
        },
        "id": "Cl3R__mgtxyu",
        "outputId": "dcb4c459-51c8-4053-acf7-b2ff470f609b"
      },
      "outputs": [
        {
          "output_type": "execute_result",
          "data": {
            "text/plain": [
              "(44898, 3)"
            ]
          },
          "metadata": {},
          "execution_count": 9
        }
      ],
      "source": [
        "df.shape"
      ]
    },
    {
      "cell_type": "code",
      "execution_count": null,
      "metadata": {
        "id": "0N3Rg2sstyun"
      },
      "outputs": [],
      "source": [
        "df['title_text'] = df['title'] + ' ' + df['text']\n",
        "df.drop(['title', 'text'], axis=1, inplace=True)"
      ]
    },
    {
      "cell_type": "code",
      "execution_count": null,
      "metadata": {
        "colab": {
          "base_uri": "https://localhost:8080/",
          "height": 206
        },
        "id": "lGiaKYLUHzZb",
        "outputId": "2603a37b-a07e-40f7-e64e-45b4a991d86c"
      },
      "outputs": [
        {
          "output_type": "execute_result",
          "data": {
            "text/plain": [
              "   check                                         title_text\n",
              "0      0   Donald Trump Sends Out Embarrassing New Year’...\n",
              "1      0   Drunk Bragging Trump Staffer Started Russian ...\n",
              "2      0   Sheriff David Clarke Becomes An Internet Joke...\n",
              "3      0   Trump Is So Obsessed He Even Has Obama’s Name...\n",
              "4      0   Pope Francis Just Called Out Donald Trump Dur..."
            ],
            "text/html": [
              "\n",
              "\n",
              "  <div id=\"df-24e29ff2-2cf8-4f25-b980-e7712aacba5f\">\n",
              "    <div class=\"colab-df-container\">\n",
              "      <div>\n",
              "<style scoped>\n",
              "    .dataframe tbody tr th:only-of-type {\n",
              "        vertical-align: middle;\n",
              "    }\n",
              "\n",
              "    .dataframe tbody tr th {\n",
              "        vertical-align: top;\n",
              "    }\n",
              "\n",
              "    .dataframe thead th {\n",
              "        text-align: right;\n",
              "    }\n",
              "</style>\n",
              "<table border=\"1\" class=\"dataframe\">\n",
              "  <thead>\n",
              "    <tr style=\"text-align: right;\">\n",
              "      <th></th>\n",
              "      <th>check</th>\n",
              "      <th>title_text</th>\n",
              "    </tr>\n",
              "  </thead>\n",
              "  <tbody>\n",
              "    <tr>\n",
              "      <th>0</th>\n",
              "      <td>0</td>\n",
              "      <td>Donald Trump Sends Out Embarrassing New Year’...</td>\n",
              "    </tr>\n",
              "    <tr>\n",
              "      <th>1</th>\n",
              "      <td>0</td>\n",
              "      <td>Drunk Bragging Trump Staffer Started Russian ...</td>\n",
              "    </tr>\n",
              "    <tr>\n",
              "      <th>2</th>\n",
              "      <td>0</td>\n",
              "      <td>Sheriff David Clarke Becomes An Internet Joke...</td>\n",
              "    </tr>\n",
              "    <tr>\n",
              "      <th>3</th>\n",
              "      <td>0</td>\n",
              "      <td>Trump Is So Obsessed He Even Has Obama’s Name...</td>\n",
              "    </tr>\n",
              "    <tr>\n",
              "      <th>4</th>\n",
              "      <td>0</td>\n",
              "      <td>Pope Francis Just Called Out Donald Trump Dur...</td>\n",
              "    </tr>\n",
              "  </tbody>\n",
              "</table>\n",
              "</div>\n",
              "      <button class=\"colab-df-convert\" onclick=\"convertToInteractive('df-24e29ff2-2cf8-4f25-b980-e7712aacba5f')\"\n",
              "              title=\"Convert this dataframe to an interactive table.\"\n",
              "              style=\"display:none;\">\n",
              "\n",
              "  <svg xmlns=\"http://www.w3.org/2000/svg\" height=\"24px\"viewBox=\"0 0 24 24\"\n",
              "       width=\"24px\">\n",
              "    <path d=\"M0 0h24v24H0V0z\" fill=\"none\"/>\n",
              "    <path d=\"M18.56 5.44l.94 2.06.94-2.06 2.06-.94-2.06-.94-.94-2.06-.94 2.06-2.06.94zm-11 1L8.5 8.5l.94-2.06 2.06-.94-2.06-.94L8.5 2.5l-.94 2.06-2.06.94zm10 10l.94 2.06.94-2.06 2.06-.94-2.06-.94-.94-2.06-.94 2.06-2.06.94z\"/><path d=\"M17.41 7.96l-1.37-1.37c-.4-.4-.92-.59-1.43-.59-.52 0-1.04.2-1.43.59L10.3 9.45l-7.72 7.72c-.78.78-.78 2.05 0 2.83L4 21.41c.39.39.9.59 1.41.59.51 0 1.02-.2 1.41-.59l7.78-7.78 2.81-2.81c.8-.78.8-2.07 0-2.86zM5.41 20L4 18.59l7.72-7.72 1.47 1.35L5.41 20z\"/>\n",
              "  </svg>\n",
              "      </button>\n",
              "\n",
              "\n",
              "\n",
              "    <div id=\"df-cd5f89ce-dda1-4e83-aa0b-758f658f0dd2\">\n",
              "      <button class=\"colab-df-quickchart\" onclick=\"quickchart('df-cd5f89ce-dda1-4e83-aa0b-758f658f0dd2')\"\n",
              "              title=\"Suggest charts.\"\n",
              "              style=\"display:none;\">\n",
              "\n",
              "<svg xmlns=\"http://www.w3.org/2000/svg\" height=\"24px\"viewBox=\"0 0 24 24\"\n",
              "     width=\"24px\">\n",
              "    <g>\n",
              "        <path d=\"M19 3H5c-1.1 0-2 .9-2 2v14c0 1.1.9 2 2 2h14c1.1 0 2-.9 2-2V5c0-1.1-.9-2-2-2zM9 17H7v-7h2v7zm4 0h-2V7h2v10zm4 0h-2v-4h2v4z\"/>\n",
              "    </g>\n",
              "</svg>\n",
              "      </button>\n",
              "    </div>\n",
              "\n",
              "<style>\n",
              "  .colab-df-quickchart {\n",
              "    background-color: #E8F0FE;\n",
              "    border: none;\n",
              "    border-radius: 50%;\n",
              "    cursor: pointer;\n",
              "    display: none;\n",
              "    fill: #1967D2;\n",
              "    height: 32px;\n",
              "    padding: 0 0 0 0;\n",
              "    width: 32px;\n",
              "  }\n",
              "\n",
              "  .colab-df-quickchart:hover {\n",
              "    background-color: #E2EBFA;\n",
              "    box-shadow: 0px 1px 2px rgba(60, 64, 67, 0.3), 0px 1px 3px 1px rgba(60, 64, 67, 0.15);\n",
              "    fill: #174EA6;\n",
              "  }\n",
              "\n",
              "  [theme=dark] .colab-df-quickchart {\n",
              "    background-color: #3B4455;\n",
              "    fill: #D2E3FC;\n",
              "  }\n",
              "\n",
              "  [theme=dark] .colab-df-quickchart:hover {\n",
              "    background-color: #434B5C;\n",
              "    box-shadow: 0px 1px 3px 1px rgba(0, 0, 0, 0.15);\n",
              "    filter: drop-shadow(0px 1px 2px rgba(0, 0, 0, 0.3));\n",
              "    fill: #FFFFFF;\n",
              "  }\n",
              "</style>\n",
              "\n",
              "    <script>\n",
              "      async function quickchart(key) {\n",
              "        const containerElement = document.querySelector('#' + key);\n",
              "        const charts = await google.colab.kernel.invokeFunction(\n",
              "            'suggestCharts', [key], {});\n",
              "      }\n",
              "    </script>\n",
              "\n",
              "      <script>\n",
              "\n",
              "function displayQuickchartButton(domScope) {\n",
              "  let quickchartButtonEl =\n",
              "    domScope.querySelector('#df-cd5f89ce-dda1-4e83-aa0b-758f658f0dd2 button.colab-df-quickchart');\n",
              "  quickchartButtonEl.style.display =\n",
              "    google.colab.kernel.accessAllowed ? 'block' : 'none';\n",
              "}\n",
              "\n",
              "        displayQuickchartButton(document);\n",
              "      </script>\n",
              "      <style>\n",
              "    .colab-df-container {\n",
              "      display:flex;\n",
              "      flex-wrap:wrap;\n",
              "      gap: 12px;\n",
              "    }\n",
              "\n",
              "    .colab-df-convert {\n",
              "      background-color: #E8F0FE;\n",
              "      border: none;\n",
              "      border-radius: 50%;\n",
              "      cursor: pointer;\n",
              "      display: none;\n",
              "      fill: #1967D2;\n",
              "      height: 32px;\n",
              "      padding: 0 0 0 0;\n",
              "      width: 32px;\n",
              "    }\n",
              "\n",
              "    .colab-df-convert:hover {\n",
              "      background-color: #E2EBFA;\n",
              "      box-shadow: 0px 1px 2px rgba(60, 64, 67, 0.3), 0px 1px 3px 1px rgba(60, 64, 67, 0.15);\n",
              "      fill: #174EA6;\n",
              "    }\n",
              "\n",
              "    [theme=dark] .colab-df-convert {\n",
              "      background-color: #3B4455;\n",
              "      fill: #D2E3FC;\n",
              "    }\n",
              "\n",
              "    [theme=dark] .colab-df-convert:hover {\n",
              "      background-color: #434B5C;\n",
              "      box-shadow: 0px 1px 3px 1px rgba(0, 0, 0, 0.15);\n",
              "      filter: drop-shadow(0px 1px 2px rgba(0, 0, 0, 0.3));\n",
              "      fill: #FFFFFF;\n",
              "    }\n",
              "  </style>\n",
              "\n",
              "      <script>\n",
              "        const buttonEl =\n",
              "          document.querySelector('#df-24e29ff2-2cf8-4f25-b980-e7712aacba5f button.colab-df-convert');\n",
              "        buttonEl.style.display =\n",
              "          google.colab.kernel.accessAllowed ? 'block' : 'none';\n",
              "\n",
              "        async function convertToInteractive(key) {\n",
              "          const element = document.querySelector('#df-24e29ff2-2cf8-4f25-b980-e7712aacba5f');\n",
              "          const dataTable =\n",
              "            await google.colab.kernel.invokeFunction('convertToInteractive',\n",
              "                                                     [key], {});\n",
              "          if (!dataTable) return;\n",
              "\n",
              "          const docLinkHtml = 'Like what you see? Visit the ' +\n",
              "            '<a target=\"_blank\" href=https://colab.research.google.com/notebooks/data_table.ipynb>data table notebook</a>'\n",
              "            + ' to learn more about interactive tables.';\n",
              "          element.innerHTML = '';\n",
              "          dataTable['output_type'] = 'display_data';\n",
              "          await google.colab.output.renderOutput(dataTable, element);\n",
              "          const docLink = document.createElement('div');\n",
              "          docLink.innerHTML = docLinkHtml;\n",
              "          element.appendChild(docLink);\n",
              "        }\n",
              "      </script>\n",
              "    </div>\n",
              "  </div>\n"
            ]
          },
          "metadata": {},
          "execution_count": 11
        }
      ],
      "source": [
        "df.head()"
      ]
    },
    {
      "cell_type": "code",
      "source": [
        "def load_data(path):\n",
        "    fake_df = pd.read_csv(path +'Fake.csv')\n",
        "    real_df = pd.read_csv(path +'True.csv')\n",
        "\n",
        "    fake_df = fake_df[['title', 'text']]\n",
        "    real_df = real_df[['title', 'text']]\n",
        "\n",
        "    fake_df['check'] = 0\n",
        "    real_df['check'] = 1\n",
        "    df = pd.concat([fake_df, real_df], ignore_index=True, sort=False)\n",
        "\n",
        "    df['title_text'] = df['title'] + ' ' + df['text']\n",
        "    df.drop(['title', 'text'], axis=1, inplace=True)\n",
        "\n",
        "    return df"
      ],
      "metadata": {
        "id": "5QwKC3i3lSCy"
      },
      "execution_count": null,
      "outputs": []
    },
    {
      "cell_type": "code",
      "source": [
        "# 전처리\n",
        "def preprocessor(text):\n",
        "    text = re.sub(r'\\(.*?\\)', '', text)\n",
        "    text = re.sub(r'\\[.*?\\]', '', text)\n",
        "    text = re.sub('-', '', text)\n",
        "    text = re.sub(r'([.?!])\\1+', r'\\1', text)  # 여러 번 반복되는 문장 부호 제거\n",
        "    text = text.lower()  # 모든 문자를 소문자로 변환\n",
        "    return text\n",
        "\n",
        "# Lemmatizer 초기화\n",
        "lemmatizer = WordNetLemmatizer()\n",
        "# Stopwords 초기화 (불필요한 단어 제거)\n",
        "stop_words = set(stopwords.words('english'))"
      ],
      "metadata": {
        "id": "xQKpFjOYlTa2"
      },
      "execution_count": null,
      "outputs": []
    },
    {
      "cell_type": "code",
      "source": [
        "# 전처리와 토큰화\n",
        "def preprocess_and_tokenize(text):\n",
        "\n",
        "    sentences = sent_tokenize(text)\n",
        "    text = re.sub(r'([.?!])\\1+', r'\\1', text)\n",
        "    # 모든 문자를 소문자로 변환\n",
        "    text = text.lower()\n",
        "    processed_sentences = []\n",
        "    for sent in sentences:\n",
        "        # 단어 토큰화\n",
        "        words = word_tokenize(sent)\n",
        "\n",
        "        # 소문자화\n",
        "        words = [word.lower() for word in words]\n",
        "\n",
        "        # 불필요한 단어 및 특수문자 제거\n",
        "        words = [word for word in words if word.isalnum() and word not in stop_words]\n",
        "\n",
        "        # Lemmatization (기본형으로 변환)\n",
        "        words = [lemmatizer.lemmatize(word) for word in words]\n",
        "\n",
        "        processed_sentences.append(' '.join(words))\n",
        "\n",
        "    return ' '.join(processed_sentences)\n"
      ],
      "metadata": {
        "id": "P3K7_ml_lU5F"
      },
      "execution_count": null,
      "outputs": []
    },
    {
      "cell_type": "code",
      "source": [
        "# TF-IDF 벡터라이저 반환\n",
        "def get_tfidf_vectorizer():\n",
        "    return TfidfVectorizer(strip_accents=None,\n",
        "                           lowercase=False,\n",
        "                           preprocessor=None,\n",
        "                           tokenizer=preprocess_and_tokenize,\n",
        "                           use_idf=True,\n",
        "                           norm='l2',\n",
        "                           smooth_idf=True)"
      ],
      "metadata": {
        "id": "-9yiEER5lWA6"
      },
      "execution_count": null,
      "outputs": []
    },
    {
      "cell_type": "code",
      "source": [
        "# 유튜브 스크립트 전처리\n",
        "def preprocess_youtube_script(script_text):\n",
        "    script_text = preprocess_and_tokenize(script_text)\n",
        "    return script_text"
      ],
      "metadata": {
        "id": "GlGVM70llWYS"
      },
      "execution_count": null,
      "outputs": []
    },
    {
      "cell_type": "code",
      "source": [
        "# 문맥 기반 오류 검사\n",
        "nlp = spacy.load(\"en_core_web_sm\")\n",
        "\n",
        "def context_checker(text):\n",
        "    doc = nlp(text)\n",
        "    errors = []\n",
        "    for i, token in enumerate(doc[:-1]):\n",
        "        if token.ent_type_ and doc[i+1].ent_type_ and not token.is_punct and not doc[i+1].is_punct:\n",
        "            errors.append((token, doc[i+1]))\n",
        "\n",
        "    for error in errors:\n",
        "        print(f\"Potential error: {error[0].text} {error[1].text}\")\n",
        "\n",
        "    return errors\n",
        "\n",
        "def fix_context_errors(text, errors):\n",
        "    corrected_text = text\n",
        "    for error in errors:\n",
        "        wrong_word = error[0].text\n",
        "        correct_word = error[1].text  # Assume the second word is correct\n",
        "        corrected_text = corrected_text.replace(wrong_word, correct_word, 1)\n",
        "\n",
        "    return corrected_text\n",
        "\n",
        "def process_and_check_script(script_text):\n",
        "    cleaned_script = preprocess_youtube_script(script_text)\n",
        "    context_errors = context_checker(cleaned_script)  # Get context errors\n",
        "    corrected_script = fix_context_errors(cleaned_script, context_errors)\n",
        "    return corrected_script"
      ],
      "metadata": {
        "id": "oY-GvvcTll1S"
      },
      "execution_count": null,
      "outputs": []
    },
    {
      "cell_type": "code",
      "execution_count": null,
      "metadata": {
        "colab": {
          "base_uri": "https://localhost:8080/"
        },
        "id": "JF0T39uXt2Ol",
        "outputId": "9bd2831f-6dcf-4547-a7b3-441cd3d99fe9"
      },
      "outputs": [
        {
          "output_type": "execute_result",
          "data": {
            "text/plain": [
              "0.9969933184855234"
            ]
          },
          "metadata": {},
          "execution_count": 13
        }
      ],
      "source": [
        "clf.score(X_test, y_test)"
      ]
    },
    {
      "cell_type": "code",
      "execution_count": null,
      "metadata": {
        "id": "Aa2Ibc3mt3SY"
      },
      "outputs": [],
      "source": [
        "from sklearn.metrics import classification_report, accuracy_score, confusion_matrix\n",
        "y_pred = clf.predict(X_test)\n",
        "print(\"---Test Set Results---\")\n",
        "print(\"Accuracy with logreg: {}\".format(accuracy_score(y_test, y_pred)))\n",
        "print(classification_report(y_test, y_pred))"
      ]
    },
    {
      "cell_type": "code",
      "execution_count": null,
      "metadata": {
        "id": "Skpbvdf2t4Zz"
      },
      "outputs": [],
      "source": [
        "binary_predictions = []\n",
        "\n",
        "for i in y_pred:\n",
        "    if i >= 0.5:\n",
        "        binary_predictions.append(1)\n",
        "    else:\n",
        "        binary_predictions.append(0)\n",
        "import matplotlib.pyplot as plt\n",
        "import seaborn as sns\n",
        "matrix = confusion_matrix(binary_predictions, y_test, normalize='all')\n",
        "plt.figure(figsize=(10, 6))\n",
        "ax= plt.subplot()\n",
        "sns.heatmap(matrix, annot=True, ax = ax)\n",
        "\n",
        "# labels, title and ticks\n",
        "ax.set_xlabel('Predicted Labels', size=15)\n",
        "ax.set_ylabel('True Labels', size=15)\n",
        "ax.set_title('Confusion Matrix', size=15)\n",
        "ax.xaxis.set_ticklabels([0,1], size=15)\n",
        "ax.yaxis.set_ticklabels([0,1], size=15);"
      ]
    },
    {
      "cell_type": "code",
      "execution_count": null,
      "metadata": {
        "colab": {
          "base_uri": "https://localhost:8080/"
        },
        "id": "6Rfg_BZ7t6HT",
        "outputId": "ab7600fb-cbe6-4487-d3dc-0d6570002c04"
      },
      "outputs": [
        {
          "output_type": "stream",
          "name": "stdout",
          "text": [
            "813.5157783031464\n"
          ]
        }
      ],
      "source": [
        "end = time.time()\n",
        "print(end - start)"
      ]
    },
    {
      "cell_type": "code",
      "execution_count": null,
      "metadata": {
        "id": "XZNDbDEfYEzH"
      },
      "outputs": [],
      "source": [
        "!pip install translate"
      ]
    },
    {
      "cell_type": "code",
      "execution_count": null,
      "metadata": {
        "id": "ahu6Zj-3YoZt"
      },
      "outputs": [],
      "source": [
        "!pip install langdetect"
      ]
    },
    {
      "cell_type": "code",
      "execution_count": null,
      "metadata": {
        "id": "O3E8yszHF3k-"
      },
      "outputs": [],
      "source": [
        "!pip install googletrans==4.0.0rc1"
      ]
    },
    {
      "cell_type": "code",
      "execution_count": null,
      "metadata": {
        "id": "Fao6jAfbGszK"
      },
      "outputs": [],
      "source": [
        "from googletrans import Translator"
      ]
    },
    {
      "cell_type": "code",
      "execution_count": null,
      "metadata": {
        "id": "Yhbmk-UP2qdY"
      },
      "outputs": [],
      "source": [
        "from langdetect import detect\n",
        "\n",
        "\n",
        "def text_and_translate(user_title, user_text):\n",
        "\n",
        "    news_text = user_title + \" \" + user_text\n",
        "\n",
        "    translator = Translator()\n",
        "\n",
        "    if detect(news_text) != 'en':\n",
        "         news_text = translator.translate(news_text, dest='en').text\n",
        "    # print(news_text)\n",
        "    return news_text\n",
        "\n",
        "\n",
        "\n",
        "def predict_fake_or_real(news_text):\n",
        "\n",
        "    # clf 객체 로딩\n",
        "    with open(\"text_classifier_model.pkl\", \"rb\") as f:\n",
        "        clf = pickle.load(f)\n",
        "    with open(\"tfidf_vectorizer.pkl\", \"rb\") as tfidf_file:\n",
        "        tfidf = pickle.load(tfidf_file)\n",
        "\n",
        "    # 전처리 단계\n",
        "    news_text = process_and_check_script(news_text)\n",
        "    # TF-IDF 변환\n",
        "    news_vector = tfidf.transform([news_text])\n",
        "\n",
        "    # 모델을 사용하여 예측\n",
        "    prediction = clf.predict(news_vector)\n",
        "    prediction_proba = clf.predict_proba(news_vector)\n",
        "\n",
        "    if prediction[0] == 0:  # prediction은 배열 형태로 반환되므로 prediction[0]을 사용\n",
        "        return \"Fake News\", prediction_proba[0][0] * 100  # 가짜 뉴스일 확률\n",
        "    else:\n",
        "        return \"Real News\", prediction_proba[0][1] * 100  # 진짜 뉴스일 확률\n",
        "\n",
        "\n",
        "def explain_prediction(news_text, result):\n",
        "    # clf 객체 로딩\n",
        "    with open(\"text_classifier_model.pkl\", \"rb\") as f:\n",
        "        clf = pickle.load(f)\n",
        "    with open(\"tfidf_vectorizer.pkl\", \"rb\") as tfidf_file:\n",
        "        tfidf = pickle.load(tfidf_file)\n",
        "\n",
        "    news_text = process_and_check_script(news_text)\n",
        "    news_vector = tfidf.transform([news_text])\n",
        "\n",
        "    print(\"!!!!\" + news_text)\n",
        "    feature_names = tfidf.get_feature_names_out()\n",
        "    coefficients = clf.coef_[0]\n",
        "    words_importance = []\n",
        "\n",
        "    for idx in news_vector.nonzero()[1]:\n",
        "        word = feature_names[idx]\n",
        "        importance = coefficients[idx] * news_vector[0, idx]\n",
        "        words_importance.append((word, importance))\n",
        "\n",
        "    words_importance.sort(key=lambda x: abs(x[1]), reverse=True)\n",
        "\n",
        "    if result == \"Fake News\":\n",
        "        return [word for word in words_importance if word[1] < 0][:10]\n",
        "    else:\n",
        "        return [word for word in words_importance if word[1] > 0][:10]\n",
        "\n",
        "\n",
        "\n",
        "while True:\n",
        "\n",
        "    user_title = input(\"Please enter a news article title or 0 to exit: \").strip()\n",
        "\n",
        "    if user_title == '0':\n",
        "        print(\"Exiting the program.\")\n",
        "        break\n",
        "\n",
        "    user_text = input(\"Please enter the news article text: \").strip()\n",
        "    news_text = text_and_translate(user_title, user_text)\n",
        "\n",
        "    result, probability = predict_fake_or_real(news_text)\n",
        "    explanation = explain_prediction(news_text, result)\n",
        "\n",
        "\n",
        "    print(\"This news is:\", result)\n",
        "    print(f\"Probability: {probability:.2f}%\")\n",
        "    print(\"Top 10 influencing words:\")\n",
        "    for word, importance in explanation:\n",
        "        print(f\"{word}: {'supports Fake' if importance < 0 else 'supports Real'} with weight {abs(importance)}\")"
      ]
    }
  ],
  "metadata": {
    "colab": {
      "provenance": [],
      "authorship_tag": "ABX9TyPlU/SP1BaBFxFIIArgW8hl",
      "include_colab_link": true
    },
    "kernelspec": {
      "display_name": "Python 3",
      "name": "python3"
    },
    "language_info": {
      "name": "python"
    }
  },
  "nbformat": 4,
  "nbformat_minor": 0
}