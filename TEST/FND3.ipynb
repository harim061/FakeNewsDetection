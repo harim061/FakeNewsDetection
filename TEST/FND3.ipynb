{
  "nbformat": 4,
  "nbformat_minor": 0,
  "metadata": {
    "colab": {
      "provenance": [],
      "authorship_tag": "ABX9TyMOQNWF1ecylLBXbuC1oZfv",
      "include_colab_link": true
    },
    "kernelspec": {
      "name": "python3",
      "display_name": "Python 3"
    },
    "language_info": {
      "name": "python"
    }
  },
  "cells": [
    {
      "cell_type": "markdown",
      "metadata": {
        "id": "view-in-github",
        "colab_type": "text"
      },
      "source": [
        "<a href=\"https://colab.research.google.com/github/harim061/FakeNewsDetection/blob/main/FND3.ipynb\" target=\"_parent\"><img src=\"https://colab.research.google.com/assets/colab-badge.svg\" alt=\"Open In Colab\"/></a>"
      ]
    },
    {
      "cell_type": "code",
      "execution_count": 37,
      "metadata": {
        "id": "iL0xS6AxgrHw"
      },
      "outputs": [],
      "source": [
        "import pandas as pd\n",
        "import re\n",
        "from nltk.stem.porter import PorterStemmer\n",
        "from sklearn.feature_extraction.text import TfidfVectorizer\n",
        "from sklearn.model_selection import train_test_split\n",
        "import pickle\n",
        "from sklearn.linear_model import LogisticRegressionCV"
      ]
    },
    {
      "cell_type": "code",
      "source": [
        "from google.colab import drive\n",
        "drive.mount('/content/drive')"
      ],
      "metadata": {
        "colab": {
          "base_uri": "https://localhost:8080/"
        },
        "id": "1liiRdk3EcHt",
        "outputId": "2c5080b0-e3c5-4d59-c1fd-639c3a1df479"
      },
      "execution_count": 39,
      "outputs": [
        {
          "output_type": "stream",
          "name": "stdout",
          "text": [
            "Mounted at /content/drive\n"
          ]
        }
      ]
    },
    {
      "cell_type": "code",
      "source": [
        "import time\n",
        "start = time.time()"
      ],
      "metadata": {
        "id": "MPrrn5krsrg8"
      },
      "execution_count": 38,
      "outputs": []
    },
    {
      "cell_type": "code",
      "source": [
        "path = '/content/drive/MyDrive/fakeData/'"
      ],
      "metadata": {
        "id": "UKUnOVJCE6UO"
      },
      "execution_count": 42,
      "outputs": []
    },
    {
      "cell_type": "code",
      "source": [
        "fake_df = pd.read_csv(path +'Fake.csv')\n",
        "real_df = pd.read_csv(path +'True.csv')"
      ],
      "metadata": {
        "id": "cAKB1M6Sss1B"
      },
      "execution_count": 57,
      "outputs": []
    },
    {
      "cell_type": "code",
      "source": [
        "fake_df = fake_df[['title', 'text']]\n",
        "real_df = real_df[['title', 'text']]"
      ],
      "metadata": {
        "id": "3CAGcFBH1Xzh"
      },
      "execution_count": 58,
      "outputs": []
    },
    {
      "cell_type": "code",
      "source": [
        "fake_df['check'] = 0\n",
        "real_df['check'] = 1\n",
        "df = pd.concat([fake_df, real_df], ignore_index=True, sort=False)"
      ],
      "metadata": {
        "id": "0wxv5lAetsUK"
      },
      "execution_count": 59,
      "outputs": []
    },
    {
      "cell_type": "code",
      "source": [
        "df.head()"
      ],
      "metadata": {
        "id": "MHy4gopktwfu",
        "colab": {
          "base_uri": "https://localhost:8080/",
          "height": 206
        },
        "outputId": "f35cac2e-66fb-4d09-bfa4-b4b81b977595"
      },
      "execution_count": 60,
      "outputs": [
        {
          "output_type": "execute_result",
          "data": {
            "text/plain": [
              "                                               title  \\\n",
              "0   Donald Trump Sends Out Embarrassing New Year’...   \n",
              "1   Drunk Bragging Trump Staffer Started Russian ...   \n",
              "2   Sheriff David Clarke Becomes An Internet Joke...   \n",
              "3   Trump Is So Obsessed He Even Has Obama’s Name...   \n",
              "4   Pope Francis Just Called Out Donald Trump Dur...   \n",
              "\n",
              "                                                text  check  \n",
              "0  Donald Trump just couldn t wish all Americans ...      0  \n",
              "1  House Intelligence Committee Chairman Devin Nu...      0  \n",
              "2  On Friday, it was revealed that former Milwauk...      0  \n",
              "3  On Christmas day, Donald Trump announced that ...      0  \n",
              "4  Pope Francis used his annual Christmas Day mes...      0  "
            ],
            "text/html": [
              "\n",
              "\n",
              "  <div id=\"df-fa945334-5906-4cc2-9947-b162f4a3cdef\">\n",
              "    <div class=\"colab-df-container\">\n",
              "      <div>\n",
              "<style scoped>\n",
              "    .dataframe tbody tr th:only-of-type {\n",
              "        vertical-align: middle;\n",
              "    }\n",
              "\n",
              "    .dataframe tbody tr th {\n",
              "        vertical-align: top;\n",
              "    }\n",
              "\n",
              "    .dataframe thead th {\n",
              "        text-align: right;\n",
              "    }\n",
              "</style>\n",
              "<table border=\"1\" class=\"dataframe\">\n",
              "  <thead>\n",
              "    <tr style=\"text-align: right;\">\n",
              "      <th></th>\n",
              "      <th>title</th>\n",
              "      <th>text</th>\n",
              "      <th>check</th>\n",
              "    </tr>\n",
              "  </thead>\n",
              "  <tbody>\n",
              "    <tr>\n",
              "      <th>0</th>\n",
              "      <td>Donald Trump Sends Out Embarrassing New Year’...</td>\n",
              "      <td>Donald Trump just couldn t wish all Americans ...</td>\n",
              "      <td>0</td>\n",
              "    </tr>\n",
              "    <tr>\n",
              "      <th>1</th>\n",
              "      <td>Drunk Bragging Trump Staffer Started Russian ...</td>\n",
              "      <td>House Intelligence Committee Chairman Devin Nu...</td>\n",
              "      <td>0</td>\n",
              "    </tr>\n",
              "    <tr>\n",
              "      <th>2</th>\n",
              "      <td>Sheriff David Clarke Becomes An Internet Joke...</td>\n",
              "      <td>On Friday, it was revealed that former Milwauk...</td>\n",
              "      <td>0</td>\n",
              "    </tr>\n",
              "    <tr>\n",
              "      <th>3</th>\n",
              "      <td>Trump Is So Obsessed He Even Has Obama’s Name...</td>\n",
              "      <td>On Christmas day, Donald Trump announced that ...</td>\n",
              "      <td>0</td>\n",
              "    </tr>\n",
              "    <tr>\n",
              "      <th>4</th>\n",
              "      <td>Pope Francis Just Called Out Donald Trump Dur...</td>\n",
              "      <td>Pope Francis used his annual Christmas Day mes...</td>\n",
              "      <td>0</td>\n",
              "    </tr>\n",
              "  </tbody>\n",
              "</table>\n",
              "</div>\n",
              "      <button class=\"colab-df-convert\" onclick=\"convertToInteractive('df-fa945334-5906-4cc2-9947-b162f4a3cdef')\"\n",
              "              title=\"Convert this dataframe to an interactive table.\"\n",
              "              style=\"display:none;\">\n",
              "\n",
              "  <svg xmlns=\"http://www.w3.org/2000/svg\" height=\"24px\"viewBox=\"0 0 24 24\"\n",
              "       width=\"24px\">\n",
              "    <path d=\"M0 0h24v24H0V0z\" fill=\"none\"/>\n",
              "    <path d=\"M18.56 5.44l.94 2.06.94-2.06 2.06-.94-2.06-.94-.94-2.06-.94 2.06-2.06.94zm-11 1L8.5 8.5l.94-2.06 2.06-.94-2.06-.94L8.5 2.5l-.94 2.06-2.06.94zm10 10l.94 2.06.94-2.06 2.06-.94-2.06-.94-.94-2.06-.94 2.06-2.06.94z\"/><path d=\"M17.41 7.96l-1.37-1.37c-.4-.4-.92-.59-1.43-.59-.52 0-1.04.2-1.43.59L10.3 9.45l-7.72 7.72c-.78.78-.78 2.05 0 2.83L4 21.41c.39.39.9.59 1.41.59.51 0 1.02-.2 1.41-.59l7.78-7.78 2.81-2.81c.8-.78.8-2.07 0-2.86zM5.41 20L4 18.59l7.72-7.72 1.47 1.35L5.41 20z\"/>\n",
              "  </svg>\n",
              "      </button>\n",
              "\n",
              "\n",
              "\n",
              "    <div id=\"df-382dd10e-ab75-4aa0-9b1c-402c1e6027f4\">\n",
              "      <button class=\"colab-df-quickchart\" onclick=\"quickchart('df-382dd10e-ab75-4aa0-9b1c-402c1e6027f4')\"\n",
              "              title=\"Suggest charts.\"\n",
              "              style=\"display:none;\">\n",
              "\n",
              "<svg xmlns=\"http://www.w3.org/2000/svg\" height=\"24px\"viewBox=\"0 0 24 24\"\n",
              "     width=\"24px\">\n",
              "    <g>\n",
              "        <path d=\"M19 3H5c-1.1 0-2 .9-2 2v14c0 1.1.9 2 2 2h14c1.1 0 2-.9 2-2V5c0-1.1-.9-2-2-2zM9 17H7v-7h2v7zm4 0h-2V7h2v10zm4 0h-2v-4h2v4z\"/>\n",
              "    </g>\n",
              "</svg>\n",
              "      </button>\n",
              "    </div>\n",
              "\n",
              "<style>\n",
              "  .colab-df-quickchart {\n",
              "    background-color: #E8F0FE;\n",
              "    border: none;\n",
              "    border-radius: 50%;\n",
              "    cursor: pointer;\n",
              "    display: none;\n",
              "    fill: #1967D2;\n",
              "    height: 32px;\n",
              "    padding: 0 0 0 0;\n",
              "    width: 32px;\n",
              "  }\n",
              "\n",
              "  .colab-df-quickchart:hover {\n",
              "    background-color: #E2EBFA;\n",
              "    box-shadow: 0px 1px 2px rgba(60, 64, 67, 0.3), 0px 1px 3px 1px rgba(60, 64, 67, 0.15);\n",
              "    fill: #174EA6;\n",
              "  }\n",
              "\n",
              "  [theme=dark] .colab-df-quickchart {\n",
              "    background-color: #3B4455;\n",
              "    fill: #D2E3FC;\n",
              "  }\n",
              "\n",
              "  [theme=dark] .colab-df-quickchart:hover {\n",
              "    background-color: #434B5C;\n",
              "    box-shadow: 0px 1px 3px 1px rgba(0, 0, 0, 0.15);\n",
              "    filter: drop-shadow(0px 1px 2px rgba(0, 0, 0, 0.3));\n",
              "    fill: #FFFFFF;\n",
              "  }\n",
              "</style>\n",
              "\n",
              "    <script>\n",
              "      async function quickchart(key) {\n",
              "        const containerElement = document.querySelector('#' + key);\n",
              "        const charts = await google.colab.kernel.invokeFunction(\n",
              "            'suggestCharts', [key], {});\n",
              "      }\n",
              "    </script>\n",
              "\n",
              "      <script>\n",
              "\n",
              "function displayQuickchartButton(domScope) {\n",
              "  let quickchartButtonEl =\n",
              "    domScope.querySelector('#df-382dd10e-ab75-4aa0-9b1c-402c1e6027f4 button.colab-df-quickchart');\n",
              "  quickchartButtonEl.style.display =\n",
              "    google.colab.kernel.accessAllowed ? 'block' : 'none';\n",
              "}\n",
              "\n",
              "        displayQuickchartButton(document);\n",
              "      </script>\n",
              "      <style>\n",
              "    .colab-df-container {\n",
              "      display:flex;\n",
              "      flex-wrap:wrap;\n",
              "      gap: 12px;\n",
              "    }\n",
              "\n",
              "    .colab-df-convert {\n",
              "      background-color: #E8F0FE;\n",
              "      border: none;\n",
              "      border-radius: 50%;\n",
              "      cursor: pointer;\n",
              "      display: none;\n",
              "      fill: #1967D2;\n",
              "      height: 32px;\n",
              "      padding: 0 0 0 0;\n",
              "      width: 32px;\n",
              "    }\n",
              "\n",
              "    .colab-df-convert:hover {\n",
              "      background-color: #E2EBFA;\n",
              "      box-shadow: 0px 1px 2px rgba(60, 64, 67, 0.3), 0px 1px 3px 1px rgba(60, 64, 67, 0.15);\n",
              "      fill: #174EA6;\n",
              "    }\n",
              "\n",
              "    [theme=dark] .colab-df-convert {\n",
              "      background-color: #3B4455;\n",
              "      fill: #D2E3FC;\n",
              "    }\n",
              "\n",
              "    [theme=dark] .colab-df-convert:hover {\n",
              "      background-color: #434B5C;\n",
              "      box-shadow: 0px 1px 3px 1px rgba(0, 0, 0, 0.15);\n",
              "      filter: drop-shadow(0px 1px 2px rgba(0, 0, 0, 0.3));\n",
              "      fill: #FFFFFF;\n",
              "    }\n",
              "  </style>\n",
              "\n",
              "      <script>\n",
              "        const buttonEl =\n",
              "          document.querySelector('#df-fa945334-5906-4cc2-9947-b162f4a3cdef button.colab-df-convert');\n",
              "        buttonEl.style.display =\n",
              "          google.colab.kernel.accessAllowed ? 'block' : 'none';\n",
              "\n",
              "        async function convertToInteractive(key) {\n",
              "          const element = document.querySelector('#df-fa945334-5906-4cc2-9947-b162f4a3cdef');\n",
              "          const dataTable =\n",
              "            await google.colab.kernel.invokeFunction('convertToInteractive',\n",
              "                                                     [key], {});\n",
              "          if (!dataTable) return;\n",
              "\n",
              "          const docLinkHtml = 'Like what you see? Visit the ' +\n",
              "            '<a target=\"_blank\" href=https://colab.research.google.com/notebooks/data_table.ipynb>data table notebook</a>'\n",
              "            + ' to learn more about interactive tables.';\n",
              "          element.innerHTML = '';\n",
              "          dataTable['output_type'] = 'display_data';\n",
              "          await google.colab.output.renderOutput(dataTable, element);\n",
              "          const docLink = document.createElement('div');\n",
              "          docLink.innerHTML = docLinkHtml;\n",
              "          element.appendChild(docLink);\n",
              "        }\n",
              "      </script>\n",
              "    </div>\n",
              "  </div>\n"
            ]
          },
          "metadata": {},
          "execution_count": 60
        }
      ]
    },
    {
      "cell_type": "code",
      "source": [
        "df.shape"
      ],
      "metadata": {
        "id": "Cl3R__mgtxyu",
        "colab": {
          "base_uri": "https://localhost:8080/"
        },
        "outputId": "9de4ec0e-3900-46cb-a5f6-bc7db4b8915f"
      },
      "execution_count": 61,
      "outputs": [
        {
          "output_type": "execute_result",
          "data": {
            "text/plain": [
              "(44898, 3)"
            ]
          },
          "metadata": {},
          "execution_count": 61
        }
      ]
    },
    {
      "cell_type": "code",
      "source": [
        "df['title_text'] = df['title'] + ' ' + df['text']\n",
        "df.drop(['title', 'text'], axis=1, inplace=True)"
      ],
      "metadata": {
        "id": "0N3Rg2sstyun"
      },
      "execution_count": 62,
      "outputs": []
    },
    {
      "cell_type": "code",
      "source": [
        "df.head()"
      ],
      "metadata": {
        "colab": {
          "base_uri": "https://localhost:8080/",
          "height": 206
        },
        "id": "lGiaKYLUHzZb",
        "outputId": "d9a69d73-0758-49a8-fe99-4c85172d7eef"
      },
      "execution_count": 63,
      "outputs": [
        {
          "output_type": "execute_result",
          "data": {
            "text/plain": [
              "   check                                         title_text\n",
              "0      0   Donald Trump Sends Out Embarrassing New Year’...\n",
              "1      0   Drunk Bragging Trump Staffer Started Russian ...\n",
              "2      0   Sheriff David Clarke Becomes An Internet Joke...\n",
              "3      0   Trump Is So Obsessed He Even Has Obama’s Name...\n",
              "4      0   Pope Francis Just Called Out Donald Trump Dur..."
            ],
            "text/html": [
              "\n",
              "\n",
              "  <div id=\"df-0d0442bc-5f64-462e-b6a4-f8419ea45e24\">\n",
              "    <div class=\"colab-df-container\">\n",
              "      <div>\n",
              "<style scoped>\n",
              "    .dataframe tbody tr th:only-of-type {\n",
              "        vertical-align: middle;\n",
              "    }\n",
              "\n",
              "    .dataframe tbody tr th {\n",
              "        vertical-align: top;\n",
              "    }\n",
              "\n",
              "    .dataframe thead th {\n",
              "        text-align: right;\n",
              "    }\n",
              "</style>\n",
              "<table border=\"1\" class=\"dataframe\">\n",
              "  <thead>\n",
              "    <tr style=\"text-align: right;\">\n",
              "      <th></th>\n",
              "      <th>check</th>\n",
              "      <th>title_text</th>\n",
              "    </tr>\n",
              "  </thead>\n",
              "  <tbody>\n",
              "    <tr>\n",
              "      <th>0</th>\n",
              "      <td>0</td>\n",
              "      <td>Donald Trump Sends Out Embarrassing New Year’...</td>\n",
              "    </tr>\n",
              "    <tr>\n",
              "      <th>1</th>\n",
              "      <td>0</td>\n",
              "      <td>Drunk Bragging Trump Staffer Started Russian ...</td>\n",
              "    </tr>\n",
              "    <tr>\n",
              "      <th>2</th>\n",
              "      <td>0</td>\n",
              "      <td>Sheriff David Clarke Becomes An Internet Joke...</td>\n",
              "    </tr>\n",
              "    <tr>\n",
              "      <th>3</th>\n",
              "      <td>0</td>\n",
              "      <td>Trump Is So Obsessed He Even Has Obama’s Name...</td>\n",
              "    </tr>\n",
              "    <tr>\n",
              "      <th>4</th>\n",
              "      <td>0</td>\n",
              "      <td>Pope Francis Just Called Out Donald Trump Dur...</td>\n",
              "    </tr>\n",
              "  </tbody>\n",
              "</table>\n",
              "</div>\n",
              "      <button class=\"colab-df-convert\" onclick=\"convertToInteractive('df-0d0442bc-5f64-462e-b6a4-f8419ea45e24')\"\n",
              "              title=\"Convert this dataframe to an interactive table.\"\n",
              "              style=\"display:none;\">\n",
              "\n",
              "  <svg xmlns=\"http://www.w3.org/2000/svg\" height=\"24px\"viewBox=\"0 0 24 24\"\n",
              "       width=\"24px\">\n",
              "    <path d=\"M0 0h24v24H0V0z\" fill=\"none\"/>\n",
              "    <path d=\"M18.56 5.44l.94 2.06.94-2.06 2.06-.94-2.06-.94-.94-2.06-.94 2.06-2.06.94zm-11 1L8.5 8.5l.94-2.06 2.06-.94-2.06-.94L8.5 2.5l-.94 2.06-2.06.94zm10 10l.94 2.06.94-2.06 2.06-.94-2.06-.94-.94-2.06-.94 2.06-2.06.94z\"/><path d=\"M17.41 7.96l-1.37-1.37c-.4-.4-.92-.59-1.43-.59-.52 0-1.04.2-1.43.59L10.3 9.45l-7.72 7.72c-.78.78-.78 2.05 0 2.83L4 21.41c.39.39.9.59 1.41.59.51 0 1.02-.2 1.41-.59l7.78-7.78 2.81-2.81c.8-.78.8-2.07 0-2.86zM5.41 20L4 18.59l7.72-7.72 1.47 1.35L5.41 20z\"/>\n",
              "  </svg>\n",
              "      </button>\n",
              "\n",
              "\n",
              "\n",
              "    <div id=\"df-d1a20344-92ab-4ba0-a201-3f708483a73a\">\n",
              "      <button class=\"colab-df-quickchart\" onclick=\"quickchart('df-d1a20344-92ab-4ba0-a201-3f708483a73a')\"\n",
              "              title=\"Suggest charts.\"\n",
              "              style=\"display:none;\">\n",
              "\n",
              "<svg xmlns=\"http://www.w3.org/2000/svg\" height=\"24px\"viewBox=\"0 0 24 24\"\n",
              "     width=\"24px\">\n",
              "    <g>\n",
              "        <path d=\"M19 3H5c-1.1 0-2 .9-2 2v14c0 1.1.9 2 2 2h14c1.1 0 2-.9 2-2V5c0-1.1-.9-2-2-2zM9 17H7v-7h2v7zm4 0h-2V7h2v10zm4 0h-2v-4h2v4z\"/>\n",
              "    </g>\n",
              "</svg>\n",
              "      </button>\n",
              "    </div>\n",
              "\n",
              "<style>\n",
              "  .colab-df-quickchart {\n",
              "    background-color: #E8F0FE;\n",
              "    border: none;\n",
              "    border-radius: 50%;\n",
              "    cursor: pointer;\n",
              "    display: none;\n",
              "    fill: #1967D2;\n",
              "    height: 32px;\n",
              "    padding: 0 0 0 0;\n",
              "    width: 32px;\n",
              "  }\n",
              "\n",
              "  .colab-df-quickchart:hover {\n",
              "    background-color: #E2EBFA;\n",
              "    box-shadow: 0px 1px 2px rgba(60, 64, 67, 0.3), 0px 1px 3px 1px rgba(60, 64, 67, 0.15);\n",
              "    fill: #174EA6;\n",
              "  }\n",
              "\n",
              "  [theme=dark] .colab-df-quickchart {\n",
              "    background-color: #3B4455;\n",
              "    fill: #D2E3FC;\n",
              "  }\n",
              "\n",
              "  [theme=dark] .colab-df-quickchart:hover {\n",
              "    background-color: #434B5C;\n",
              "    box-shadow: 0px 1px 3px 1px rgba(0, 0, 0, 0.15);\n",
              "    filter: drop-shadow(0px 1px 2px rgba(0, 0, 0, 0.3));\n",
              "    fill: #FFFFFF;\n",
              "  }\n",
              "</style>\n",
              "\n",
              "    <script>\n",
              "      async function quickchart(key) {\n",
              "        const containerElement = document.querySelector('#' + key);\n",
              "        const charts = await google.colab.kernel.invokeFunction(\n",
              "            'suggestCharts', [key], {});\n",
              "      }\n",
              "    </script>\n",
              "\n",
              "      <script>\n",
              "\n",
              "function displayQuickchartButton(domScope) {\n",
              "  let quickchartButtonEl =\n",
              "    domScope.querySelector('#df-d1a20344-92ab-4ba0-a201-3f708483a73a button.colab-df-quickchart');\n",
              "  quickchartButtonEl.style.display =\n",
              "    google.colab.kernel.accessAllowed ? 'block' : 'none';\n",
              "}\n",
              "\n",
              "        displayQuickchartButton(document);\n",
              "      </script>\n",
              "      <style>\n",
              "    .colab-df-container {\n",
              "      display:flex;\n",
              "      flex-wrap:wrap;\n",
              "      gap: 12px;\n",
              "    }\n",
              "\n",
              "    .colab-df-convert {\n",
              "      background-color: #E8F0FE;\n",
              "      border: none;\n",
              "      border-radius: 50%;\n",
              "      cursor: pointer;\n",
              "      display: none;\n",
              "      fill: #1967D2;\n",
              "      height: 32px;\n",
              "      padding: 0 0 0 0;\n",
              "      width: 32px;\n",
              "    }\n",
              "\n",
              "    .colab-df-convert:hover {\n",
              "      background-color: #E2EBFA;\n",
              "      box-shadow: 0px 1px 2px rgba(60, 64, 67, 0.3), 0px 1px 3px 1px rgba(60, 64, 67, 0.15);\n",
              "      fill: #174EA6;\n",
              "    }\n",
              "\n",
              "    [theme=dark] .colab-df-convert {\n",
              "      background-color: #3B4455;\n",
              "      fill: #D2E3FC;\n",
              "    }\n",
              "\n",
              "    [theme=dark] .colab-df-convert:hover {\n",
              "      background-color: #434B5C;\n",
              "      box-shadow: 0px 1px 3px 1px rgba(0, 0, 0, 0.15);\n",
              "      filter: drop-shadow(0px 1px 2px rgba(0, 0, 0, 0.3));\n",
              "      fill: #FFFFFF;\n",
              "    }\n",
              "  </style>\n",
              "\n",
              "      <script>\n",
              "        const buttonEl =\n",
              "          document.querySelector('#df-0d0442bc-5f64-462e-b6a4-f8419ea45e24 button.colab-df-convert');\n",
              "        buttonEl.style.display =\n",
              "          google.colab.kernel.accessAllowed ? 'block' : 'none';\n",
              "\n",
              "        async function convertToInteractive(key) {\n",
              "          const element = document.querySelector('#df-0d0442bc-5f64-462e-b6a4-f8419ea45e24');\n",
              "          const dataTable =\n",
              "            await google.colab.kernel.invokeFunction('convertToInteractive',\n",
              "                                                     [key], {});\n",
              "          if (!dataTable) return;\n",
              "\n",
              "          const docLinkHtml = 'Like what you see? Visit the ' +\n",
              "            '<a target=\"_blank\" href=https://colab.research.google.com/notebooks/data_table.ipynb>data table notebook</a>'\n",
              "            + ' to learn more about interactive tables.';\n",
              "          element.innerHTML = '';\n",
              "          dataTable['output_type'] = 'display_data';\n",
              "          await google.colab.output.renderOutput(dataTable, element);\n",
              "          const docLink = document.createElement('div');\n",
              "          docLink.innerHTML = docLinkHtml;\n",
              "          element.appendChild(docLink);\n",
              "        }\n",
              "      </script>\n",
              "    </div>\n",
              "  </div>\n"
            ]
          },
          "metadata": {},
          "execution_count": 63
        }
      ]
    },
    {
      "cell_type": "code",
      "source": [
        "def preprocessor(text):\n",
        "\n",
        "    text = re.sub('<[^>]*>', '', text)\n",
        "    text = re.sub(r'[^\\w\\s]','', text)\n",
        "    text = text.lower()\n",
        "\n",
        "    return text\n",
        "\n",
        "df['title_text'] = df['title_text'].apply(preprocessor)\n",
        "porter = PorterStemmer()\n",
        "\n",
        "def tokenizer_porter(text):\n",
        "    return [porter.stem(word) for word in text.split()]\n",
        "tfidf = TfidfVectorizer(strip_accents=None,\n",
        "                        lowercase=False,\n",
        "                        preprocessor=None,\n",
        "                        tokenizer=tokenizer_porter,\n",
        "                        use_idf=True,\n",
        "                        norm='l2',\n",
        "                        smooth_idf=True)\n",
        "X = tfidf.fit_transform(df['title_text'])\n",
        "y = df['check'].values\n",
        "X_train, X_test, y_train, y_test = train_test_split(X, y, test_size=0.20, random_state=0)\n",
        "clf = LogisticRegressionCV(cv=5, scoring='accuracy', random_state=0, n_jobs=-1, verbose=3, max_iter=300).fit(X_train, y_train)"
      ],
      "metadata": {
        "id": "_P9CLEURt0Hj",
        "colab": {
          "base_uri": "https://localhost:8080/"
        },
        "outputId": "28113da4-3252-43a0-e307-030f50e4dbbc"
      },
      "execution_count": 66,
      "outputs": [
        {
          "output_type": "stream",
          "name": "stderr",
          "text": [
            "[Parallel(n_jobs=-1)]: Using backend LokyBackend with 2 concurrent workers.\n",
            "[Parallel(n_jobs=-1)]: Done   5 out of   5 | elapsed:  4.9min finished\n"
          ]
        }
      ]
    },
    {
      "cell_type": "code",
      "source": [
        "clf.score(X_test, y_test)"
      ],
      "metadata": {
        "id": "JF0T39uXt2Ol",
        "colab": {
          "base_uri": "https://localhost:8080/"
        },
        "outputId": "4c81cedf-d41a-4ff7-c12c-c135c6346e73"
      },
      "execution_count": 67,
      "outputs": [
        {
          "output_type": "execute_result",
          "data": {
            "text/plain": [
              "0.9969933184855234"
            ]
          },
          "metadata": {},
          "execution_count": 67
        }
      ]
    },
    {
      "cell_type": "code",
      "source": [
        "from sklearn.metrics import classification_report, accuracy_score, confusion_matrix\n",
        "y_pred = clf.predict(X_test)\n",
        "print(\"---Test Set Results---\")\n",
        "print(\"Accuracy with logreg: {}\".format(accuracy_score(y_test, y_pred)))\n",
        "print(classification_report(y_test, y_pred))"
      ],
      "metadata": {
        "id": "Aa2Ibc3mt3SY",
        "colab": {
          "base_uri": "https://localhost:8080/"
        },
        "outputId": "26975ad4-6dbc-4f27-f4f8-37ab5a9595c0"
      },
      "execution_count": 68,
      "outputs": [
        {
          "output_type": "stream",
          "name": "stdout",
          "text": [
            "---Test Set Results---\n",
            "Accuracy with logreg: 0.9969933184855234\n",
            "              precision    recall  f1-score   support\n",
            "\n",
            "           0       1.00      1.00      1.00      4713\n",
            "           1       1.00      1.00      1.00      4267\n",
            "\n",
            "    accuracy                           1.00      8980\n",
            "   macro avg       1.00      1.00      1.00      8980\n",
            "weighted avg       1.00      1.00      1.00      8980\n",
            "\n"
          ]
        }
      ]
    },
    {
      "cell_type": "code",
      "source": [
        "binary_predictions = []\n",
        "\n",
        "for i in y_pred:\n",
        "    if i >= 0.5:\n",
        "        binary_predictions.append(1)\n",
        "    else:\n",
        "        binary_predictions.append(0)\n",
        "import matplotlib.pyplot as plt\n",
        "import seaborn as sns\n",
        "matrix = confusion_matrix(binary_predictions, y_test, normalize='all')\n",
        "plt.figure(figsize=(10, 6))\n",
        "ax= plt.subplot()\n",
        "sns.heatmap(matrix, annot=True, ax = ax)\n",
        "\n",
        "# labels, title and ticks\n",
        "ax.set_xlabel('Predicted Labels', size=15)\n",
        "ax.set_ylabel('True Labels', size=15)\n",
        "ax.set_title('Confusion Matrix', size=15)\n",
        "ax.xaxis.set_ticklabels([0,1], size=15)\n",
        "ax.yaxis.set_ticklabels([0,1], size=15);"
      ],
      "metadata": {
        "id": "Skpbvdf2t4Zz",
        "colab": {
          "base_uri": "https://localhost:8080/",
          "height": 578
        },
        "outputId": "013c309a-a58e-425e-eb0a-19b4826ef552"
      },
      "execution_count": 69,
      "outputs": [
        {
          "output_type": "display_data",
          "data": {
            "text/plain": [
              "<Figure size 1000x600 with 2 Axes>"
            ],
            "image/png": "[encoded data removed]"
          },
          "metadata": {}
        }
      ]
    },
    {
      "cell_type": "code",
      "source": [
        "end = time.time()\n",
        "print(end - start)"
      ],
      "metadata": {
        "id": "6Rfg_BZ7t6HT",
        "colab": {
          "base_uri": "https://localhost:8080/"
        },
        "outputId": "a9f6466b-632a-41a6-ef2b-ff883a04f6b4"
      },
      "execution_count": 70,
      "outputs": [
        {
          "output_type": "stream",
          "name": "stdout",
          "text": [
            "2050.57426738739\n"
          ]
        }
      ]
    },
    {
      "cell_type": "code",
      "source": [
        "!pip install translate"
      ],
      "metadata": {
        "colab": {
          "base_uri": "https://localhost:8080/"
        },
        "id": "XZNDbDEfYEzH",
        "outputId": "0254947a-45b6-4d32-a2ba-0158a1724751"
      },
      "execution_count": 88,
      "outputs": [
        {
          "output_type": "stream",
          "name": "stdout",
          "text": [
            "Requirement already satisfied: translate in /usr/local/lib/python3.10/dist-packages (3.6.1)\n",
            "Requirement already satisfied: click in /usr/local/lib/python3.10/dist-packages (from translate) (8.1.6)\n",
            "Requirement already satisfied: lxml in /usr/local/lib/python3.10/dist-packages (from translate) (4.9.3)\n",
            "Requirement already satisfied: requests in /usr/local/lib/python3.10/dist-packages (from translate) (2.27.1)\n",
            "Requirement already satisfied: libretranslatepy==2.1.1 in /usr/local/lib/python3.10/dist-packages (from translate) (2.1.1)\n",
            "Requirement already satisfied: urllib3<1.27,>=1.21.1 in /usr/local/lib/python3.10/dist-packages (from requests->translate) (1.26.16)\n",
            "Requirement already satisfied: certifi>=2017.4.17 in /usr/local/lib/python3.10/dist-packages (from requests->translate) (2023.7.22)\n",
            "Requirement already satisfied: charset-normalizer~=2.0.0 in /usr/local/lib/python3.10/dist-packages (from requests->translate) (2.0.12)\n",
            "Requirement already satisfied: idna<4,>=2.5 in /usr/local/lib/python3.10/dist-packages (from requests->translate) (3.4)\n"
          ]
        }
      ]
    },
    {
      "cell_type": "code",
      "source": [
        "!pip install langdetect"
      ],
      "metadata": {
        "colab": {
          "base_uri": "https://localhost:8080/"
        },
        "id": "ahu6Zj-3YoZt",
        "outputId": "b1e50841-dbc2-447a-fd9c-03ec1ef6b9ee"
      },
      "execution_count": 89,
      "outputs": [
        {
          "output_type": "stream",
          "name": "stdout",
          "text": [
            "Requirement already satisfied: langdetect in /usr/local/lib/python3.10/dist-packages (1.0.9)\n",
            "Requirement already satisfied: six in /usr/local/lib/python3.10/dist-packages (from langdetect) (1.16.0)\n"
          ]
        }
      ]
    },
    {
      "cell_type": "code",
      "source": [
        "from translate import Translator\n",
        "from langdetect import detect\n",
        "\n",
        "\n",
        "def text_and_translate(user_title, user_text):\n",
        "\n",
        "    news_text = user_title + \" \" + user_text\n",
        "\n",
        "    translator = Translator(from_lang=\"ko\", to_lang=\"en\")\n",
        "\n",
        "    if detect(news_text) != 'en':\n",
        "         news_text = translator.translate(news_text)\n",
        "    # print(news_text)\n",
        "    return news_text\n",
        "\n",
        "\n",
        "\n",
        "def predict_fake_or_real(news_text):\n",
        "\n",
        "\n",
        "    # 전처리 단계\n",
        "    news_text = preprocessor(news_text)\n",
        "    news_text = ' '.join(tokenizer_porter(news_text))\n",
        "\n",
        "    # TF-IDF 변환\n",
        "    news_vector = tfidf.transform([news_text])\n",
        "\n",
        "    # 모델을 사용하여 예측\n",
        "    prediction = clf.predict(news_vector)\n",
        "    prediction_proba = clf.predict_proba(news_vector)\n",
        "\n",
        "    if prediction[0] == 0:  # prediction은 배열 형태로 반환되므로 prediction[0]을 사용\n",
        "        return \"Fake News\", prediction_proba[0][0] * 100  # 가짜 뉴스일 확률\n",
        "    else:\n",
        "        return \"Real News\", prediction_proba[0][1] * 100  # 진짜 뉴스일 확률\n",
        "\n",
        "\n",
        "def explain_prediction(news_text, result):\n",
        "\n",
        "\n",
        "    news_text = preprocessor(news_text)\n",
        "    news_text = ' '.join(tokenizer_porter(news_text))\n",
        "    news_vector = tfidf.transform([news_text])\n",
        "\n",
        "    feature_names = tfidf.get_feature_names_out()\n",
        "    coefficients = clf.coef_[0]\n",
        "    words_importance = []\n",
        "\n",
        "    for idx in news_vector.nonzero()[1]:\n",
        "        word = feature_names[idx]\n",
        "        importance = coefficients[idx] * news_vector[0, idx]\n",
        "        words_importance.append((word, importance))\n",
        "\n",
        "    words_importance.sort(key=lambda x: abs(x[1]), reverse=True)\n",
        "\n",
        "    if result == \"Fake News\":\n",
        "        return [word for word in words_importance if word[1] < 0][:10]\n",
        "    else:\n",
        "        return [word for word in words_importance if word[1] > 0][:10]\n",
        "\n",
        "\n",
        "while True:\n",
        "\n",
        "    user_title = input(\"Please enter a news article title or 0 to exit: \").strip()\n",
        "\n",
        "    if user_title == '0':\n",
        "        print(\"Exiting the program.\")\n",
        "        break\n",
        "\n",
        "    user_text = input(\"Please enter the news article text: \").strip()\n",
        "    news_text = text_and_translate(user_title, user_text)\n",
        "\n",
        "    result, probability = predict_fake_or_real(news_text)\n",
        "    explanation = explain_prediction(news_text, result)\n",
        "\n",
        "\n",
        "    print(\"This news is:\", result)\n",
        "    print(f\"Probability: {probability:.2f}%\")\n",
        "    print(\"Top 10 influencing words:\")\n",
        "    for word, importance in explanation:\n",
        "        print(f\"{word}: {'supports Fake' if importance < 0 else 'supports Real'} with weight {abs(importance)}\")"
      ],
      "metadata": {
        "colab": {
          "base_uri": "https://localhost:8080/"
        },
        "id": "Yhbmk-UP2qdY",
        "outputId": "8da2ce00-071d-423c-d5c2-68185b06a37a"
      },
      "execution_count": 92,
      "outputs": [
        {
          "output_type": "stream",
          "name": "stdout",
          "text": [
            "Please enter a news article title or 0 to exit: 폭우 내리는데 콘크리트 타설… 안전할까\n",
            "Please enter the news article text: 서울에서 '극한호우' 긴급재난문자까지 발송된 지난 11일, 서울과 수도권의 일부 공사현장에서 콘크리트 타설 공정이 진행된 것을 놓고 논란이 일고 있다.  콘크리트에 빗물이 섞이면서 강도가 약해질 수 있다는 가정 속에 온라인 커뮤니티를 중심으로 우려가 확산하고 있다. 하지만 현행 지침 상 문제는 없는 것으로 나타났다.  12일 관련업계에 따르면 지난 11일 서울과 경기, 인천 등 일부 아파트 건설현장에서 콘크리트 타설 작업이 진행됐다. 온라인 커뮤니티를 중심으로 관련 사진이 퍼지면서 논란이 확산되고 있다. 물과 시멘트 비율은 콘크리트 강도를 결정짓는 핵심 조건이다. 우천 시 콘크리트를 타설할 경우 빗물로 인해 물의 비율이 늘어나 콘크리트 강도가 약해질 우려가 높아진다.\n",
            "This news is: Real News\n",
            "Probability: 90.22%\n",
            "Top 10 influencing words:\n",
            "seoul: supports Real with weight 1.8988762096124603\n",
            "concret: supports Real with weight 1.0497165283373053\n",
            "on: supports Real with weight 0.9114549944997083\n",
            "onlin: supports Real with weight 0.8220332551478484\n",
            "some: supports Real with weight 0.6431536304382358\n",
            "in: supports Real with weight 0.6051400408165831\n",
            "mix: supports Real with weight 0.37405458911801936\n",
            "guidelin: supports Real with weight 0.3507323960890234\n",
            "around: supports Real with weight 0.34149545953142546\n",
            "text: supports Real with weight 0.31466046970629713\n",
            "Please enter a news article title or 0 to exit: \"비밀 결혼, 임신 5개월차\"…김호중·송가인\n",
            "Please enter the news article text: 같은 소속사 누나 동생 사이로 친해진 가수 송가인과 김호중은 서로 가까워지면서 연애를 시작했고 송가인의 프러포즈로 끝내 결혼식을 펼친다고 밝혔다  그리고 마침내 송가인이 벌써 임신 5개월차이며 조금 있으면 출산한다는 기가 막힌 속보가 들어왔다. 송가인의 임신 속보를 들은 남편 김호중은 너무 기쁘다. 솔직히 가인이가 스케줄이 너무 많아서 임신, 육아 모두 못할 거라고 판단했는데 끝까지 아기를 책임지겠다는 가인이의 모습을 보면서 남편으로서 그리고 아빠로서 열심히 살아야겠다고 느꼈다 김호중은 응원해주는 많은 팬분들께 미안하고 감사하다 밝혔다. 송가인과 김호중의 팬들은 어떻게 상의없이 임신을 발표하냐. 아무도 모른 사이에 연애하고 송가인이 임신까지 했다는 사실에 엄청난 충격을 받은 것으로 전해진다\n",
            "This news is: Fake News\n",
            "Probability: 99.94%\n",
            "Top 10 influencing words:\n",
            "break: supports Fake with weight 2.4646619008496122\n",
            "that: supports Fake with weight 1.7368682909604949\n",
            "announc: supports Fake with weight 0.9396121031050861\n",
            "news: supports Fake with weight 0.677573378220001\n",
            "wa: supports Fake with weight 0.621401204878426\n",
            "is: supports Fake with weight 0.5424202689843519\n",
            "their: supports Fake with weight 0.4872343753915568\n",
            "the: supports Fake with weight 0.4761724565507728\n",
            "began: supports Fake with weight 0.33648685787406907\n",
            "even: supports Fake with weight 0.32051375986461283\n",
            "Please enter a news article title or 0 to exit: 0\n",
            "Exiting the program.\n"
          ]
        }
      ]
    }
  ]
}
